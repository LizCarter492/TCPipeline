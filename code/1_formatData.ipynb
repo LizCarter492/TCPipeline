{
  "nbformat": 4,
  "nbformat_minor": 0,
  "metadata": {
    "colab": {
      "provenance": []
    },
    "kernelspec": {
      "name": "python3",
      "display_name": "Python 3"
    },
    "language_info": {
      "name": "python"
    }
  },
  "cells": [
    {
      "cell_type": "code",
      "execution_count": null,
      "metadata": {
        "id": "jH0p9s7D9txT",
        "colab": {
          "base_uri": "https://localhost:8080/"
        },
        "outputId": "198fe003-14fa-462c-e263-0d935cff4408"
      },
      "outputs": [
        {
          "output_type": "stream",
          "name": "stdout",
          "text": [
            "Requirement already satisfied: geopandas in /usr/local/lib/python3.10/dist-packages (0.13.2)\n",
            "Requirement already satisfied: fiona>=1.8.19 in /usr/local/lib/python3.10/dist-packages (from geopandas) (1.9.6)\n",
            "Requirement already satisfied: packaging in /usr/local/lib/python3.10/dist-packages (from geopandas) (24.0)\n",
            "Requirement already satisfied: pandas>=1.1.0 in /usr/local/lib/python3.10/dist-packages (from geopandas) (2.0.3)\n",
            "Requirement already satisfied: pyproj>=3.0.1 in /usr/local/lib/python3.10/dist-packages (from geopandas) (3.6.1)\n",
            "Requirement already satisfied: shapely>=1.7.1 in /usr/local/lib/python3.10/dist-packages (from geopandas) (2.0.4)\n",
            "Requirement already satisfied: attrs>=19.2.0 in /usr/local/lib/python3.10/dist-packages (from fiona>=1.8.19->geopandas) (23.2.0)\n",
            "Requirement already satisfied: certifi in /usr/local/lib/python3.10/dist-packages (from fiona>=1.8.19->geopandas) (2024.2.2)\n",
            "Requirement already satisfied: click~=8.0 in /usr/local/lib/python3.10/dist-packages (from fiona>=1.8.19->geopandas) (8.1.7)\n",
            "Requirement already satisfied: click-plugins>=1.0 in /usr/local/lib/python3.10/dist-packages (from fiona>=1.8.19->geopandas) (1.1.1)\n",
            "Requirement already satisfied: cligj>=0.5 in /usr/local/lib/python3.10/dist-packages (from fiona>=1.8.19->geopandas) (0.7.2)\n",
            "Requirement already satisfied: six in /usr/local/lib/python3.10/dist-packages (from fiona>=1.8.19->geopandas) (1.16.0)\n",
            "Requirement already satisfied: python-dateutil>=2.8.2 in /usr/local/lib/python3.10/dist-packages (from pandas>=1.1.0->geopandas) (2.8.2)\n",
            "Requirement already satisfied: pytz>=2020.1 in /usr/local/lib/python3.10/dist-packages (from pandas>=1.1.0->geopandas) (2023.4)\n",
            "Requirement already satisfied: tzdata>=2022.1 in /usr/local/lib/python3.10/dist-packages (from pandas>=1.1.0->geopandas) (2024.1)\n",
            "Requirement already satisfied: numpy>=1.21.0 in /usr/local/lib/python3.10/dist-packages (from pandas>=1.1.0->geopandas) (1.25.2)\n"
          ]
        }
      ],
      "source": [
        "!pip install geopandas"
      ]
    },
    {
      "cell_type": "code",
      "source": [
        "import pandas as pd\n",
        "from IPython.display import HTML\n",
        "import os\n",
        "import urllib.request\n",
        "import xlrd\n",
        "import matplotlib.pyplot as plt\n",
        "import numpy as np\n",
        "import geopandas as gpd\n",
        "import geopandas as gdf\n",
        "from shapely.geometry import Point\n",
        "import datetime\n",
        "import geopy\n",
        "import geopy.distance\n",
        "import seaborn as sns\n",
        "from geopandas import GeoDataFrame\n",
        "from collections import Counter\n",
        "import statsmodels.api as sm\n",
        "import statsmodels.formula.api as smf\n",
        "import collections\n",
        "from itertools import compress\n",
        "from sklearn.cluster import KMeans\n",
        "import csv"
      ],
      "metadata": {
        "id": "7FzS50bt9zd7"
      },
      "execution_count": null,
      "outputs": []
    },
    {
      "cell_type": "markdown",
      "source": [
        "#TO DO\n",
        "Write a text intro\n",
        "Clean notebook\n",
        "Add an \"open in colab\" button\n",
        "Get url download link for original csvs.\n",
        "\n",
        "*   Write a text intro\n",
        "*   Clean notebook\n",
        "*   Add an \"open in colab\" button\n",
        "*   Get url download link for original csvs.List item\n",
        "\n"
      ],
      "metadata": {
        "id": "0A7t5QFHVU3g"
      }
    },
    {
      "cell_type": "code",
      "source": [
        "from google.colab import drive\n",
        "drive.mount('/content/drive')"
      ],
      "metadata": {
        "colab": {
          "base_uri": "https://localhost:8080/"
        },
        "id": "2IPQ5a5t91E7",
        "outputId": "29e1de0b-8e39-4ec6-e205-3fcc175c7924"
      },
      "execution_count": null,
      "outputs": [
        {
          "output_type": "stream",
          "name": "stdout",
          "text": [
            "Mounted at /content/drive\n"
          ]
        }
      ]
    },
    {
      "cell_type": "code",
      "source": [
        "import os\n",
        "os.chdir('drive/MyDrive/colab/')"
      ],
      "metadata": {
        "id": "yFX8XHHi93KT"
      },
      "execution_count": null,
      "outputs": []
    },
    {
      "cell_type": "markdown",
      "source": [
        "Note, if working from the Zenodo repository, set the working directory to the \"raw_data\" folder. Outputs from this script can be found in the \"analysis_data\" folder."
      ],
      "metadata": {
        "id": "QGvuCaemU0FN"
      }
    },
    {
      "cell_type": "code",
      "source": [
        "a =pd.read_csv('pipeline_failures_storm.csv')\n",
        "a.DATE = pd.to_datetime(a.DATE)"
      ],
      "metadata": {
        "colab": {
          "base_uri": "https://localhost:8080/"
        },
        "id": "og2EDucO-jvL",
        "outputId": "4397ec15-959c-40d7-bce3-bb35d25b3ae8"
      },
      "execution_count": null,
      "outputs": [
        {
          "output_type": "stream",
          "name": "stderr",
          "text": [
            "<ipython-input-5-905c6d06a08c>:1: DtypeWarning: Columns (5,6,7) have mixed types. Specify dtype option on import or set low_memory=False.\n",
            "  a =pd.read_csv('pipeline_failures_storm.csv')\n"
          ]
        }
      ]
    },
    {
      "cell_type": "code",
      "source": [
        "a['yr'] = a['DATE'].dt.year"
      ],
      "metadata": {
        "id": "EoGyNMz-2fMu"
      },
      "execution_count": null,
      "outputs": []
    },
    {
      "cell_type": "markdown",
      "source": [
        "The column 'diftime' will have an nan (not a number) value anytime no hurricanes have come within 300 miles of the fail point."
      ],
      "metadata": {
        "id": "a0x5JwKzMxN7"
      }
    },
    {
      "cell_type": "code",
      "source": [
        "b = a.dropna(subset=['diftime'])\n",
        "b.shape"
      ],
      "metadata": {
        "colab": {
          "base_uri": "https://localhost:8080/"
        },
        "id": "dnOgvo350-uk",
        "outputId": "150e9e07-d4ac-4ca6-b5be-8e7e34d3f95b"
      },
      "execution_count": null,
      "outputs": [
        {
          "output_type": "execute_result",
          "data": {
            "text/plain": [
              "(9742, 45)"
            ]
          },
          "metadata": {},
          "execution_count": 7
        }
      ]
    },
    {
      "cell_type": "code",
      "source": [
        "a = None"
      ],
      "metadata": {
        "id": "ScOFCzVmmagU"
      },
      "execution_count": null,
      "outputs": []
    },
    {
      "cell_type": "code",
      "source": [
        "#NOAHURDAT Data\n",
        "# Can we pull this directly from an internet url?\n",
        "\n",
        "hur  = pd.read_excel(\"NOAAHURDAT.xlsx\",engine='openpyxl')\n",
        "hur = hur.sort_values(['date'])\n",
        "hur = hur.sort_values(['start_date'])\n",
        "hur = hur.sort_values(['end_date'])\n",
        "hur['dateTime'] = hur['start_date'].astype(str).str.cat(hur['time'].astype(str),sep=\" \")\n",
        "hur['dateTime'] = pd.to_datetime(hur['dateTime'], format=\"%Y-%m-%d %H:%M:%S\")"
      ],
      "metadata": {
        "id": "tvTEel_M67sL"
      },
      "execution_count": null,
      "outputs": []
    },
    {
      "cell_type": "code",
      "source": [
        "hur.name = hur.name.astype('category')"
      ],
      "metadata": {
        "id": "UL3VexPH89YX"
      },
      "execution_count": null,
      "outputs": []
    },
    {
      "cell_type": "markdown",
      "source": [
        "#Create merged PHMSA + HURDAT 2 dataset\n",
        "\n",
        "\n"
      ],
      "metadata": {
        "id": "yqy7rcowAnjo"
      }
    },
    {
      "cell_type": "markdown",
      "source": [
        "Use the \"HurIDX\" column to idenfy hurdat points already affiliated with failures\n"
      ],
      "metadata": {
        "id": "AcUyo8dGW8uz"
      }
    },
    {
      "cell_type": "code",
      "source": [
        "b.HurIdx"
      ],
      "metadata": {
        "colab": {
          "base_uri": "https://localhost:8080/"
        },
        "id": "nyv2_1lBUsYT",
        "outputId": "7cc8e302-9d94-4e6a-f07a-a52fe6db45b5"
      },
      "execution_count": null,
      "outputs": [
        {
          "output_type": "execute_result",
          "data": {
            "text/plain": [
              "485          7\n",
              "580          7\n",
              "730         76\n",
              "748         76\n",
              "754         76\n",
              "         ...  \n",
              "24957    12101\n",
              "24961    12074\n",
              "24964    12073\n",
              "24965    12101\n",
              "24967    12102\n",
              "Name: HurIdx, Length: 9742, dtype: int64"
            ]
          },
          "metadata": {},
          "execution_count": 12
        }
      ]
    },
    {
      "cell_type": "code",
      "source": [
        "hur = hur[~hur['Unnamed: 0'].isin(b.HurIdx[b.diftime<60].unique())]\n",
        "hur.shape"
      ],
      "metadata": {
        "id": "1gNdWAyb7ftU",
        "colab": {
          "base_uri": "https://localhost:8080/"
        },
        "outputId": "0a4f353c-9f43-49f4-f039-3b843bab51a1"
      },
      "execution_count": null,
      "outputs": [
        {
          "output_type": "execute_result",
          "data": {
            "text/plain": [
              "(11643, 21)"
            ]
          },
          "metadata": {},
          "execution_count": 13
        }
      ]
    },
    {
      "cell_type": "code",
      "source": [
        "b.category = np.nan"
      ],
      "metadata": {
        "id": "mMyFJZF6NbfH"
      },
      "execution_count": null,
      "outputs": []
    },
    {
      "cell_type": "code",
      "source": [
        "test = pd.concat([b, hur], ignore_index=False)\n"
      ],
      "metadata": {
        "id": "M0EbPDQl4bo8"
      },
      "execution_count": null,
      "outputs": []
    },
    {
      "cell_type": "code",
      "source": [
        "b = None"
      ],
      "metadata": {
        "id": "P2iHCQAFmhlc"
      },
      "execution_count": null,
      "outputs": []
    },
    {
      "cell_type": "markdown",
      "source": [
        "Use the pipeline failure latitude column to identify wherther or not storm is associated with failure"
      ],
      "metadata": {
        "id": "bxJ6S_aiK940"
      }
    },
    {
      "cell_type": "code",
      "source": [
        "test.category.unique()"
      ],
      "metadata": {
        "id": "c0LJUWoGNTPE",
        "colab": {
          "base_uri": "https://localhost:8080/"
        },
        "outputId": "4a46f860-e8ab-46c1-ddea-00dcd669ff9b"
      },
      "execution_count": null,
      "outputs": [
        {
          "output_type": "execute_result",
          "data": {
            "text/plain": [
              "array([nan, -1.,  0.,  1.,  3.,  2.,  4.,  5.])"
            ]
          },
          "metadata": {},
          "execution_count": 17
        }
      ]
    },
    {
      "cell_type": "code",
      "source": [
        "test['failTF'] = np.nan"
      ],
      "metadata": {
        "id": "3y4GpJGt_Qoe"
      },
      "execution_count": null,
      "outputs": []
    },
    {
      "cell_type": "code",
      "source": [
        "test['failTF'][np.isnan(test.LATITUDE)] = 0\n",
        "test['failTF'][~np.isnan(test.LATITUDE)] = 1"
      ],
      "metadata": {
        "id": "NDErbF23-WtE"
      },
      "execution_count": null,
      "outputs": []
    },
    {
      "cell_type": "markdown",
      "source": [
        "Assign the hurricane failure year to entries with no failure (and therefore no failure year)"
      ],
      "metadata": {
        "id": "aHh4i-Q2XPAh"
      }
    },
    {
      "cell_type": "code",
      "source": [
        "test.yr[np.isnan(test.yr)] = test['year'][np.isnan(test.yr)]"
      ],
      "metadata": {
        "id": "4ESaDTRMCRGd"
      },
      "execution_count": null,
      "outputs": []
    },
    {
      "cell_type": "code",
      "source": [
        "test['DATE'] = pd.to_datetime(test['DATE'])#, errors='coerce')\n",
        "test.month = test['DATE'].dt.month\n",
        "test.name[(test.name==\"0\") & (test.month.isin([1,2,3,4,5,6]))]=\"NoStorm\""
      ],
      "metadata": {
        "id": "ov_OFWKPrery"
      },
      "execution_count": null,
      "outputs": []
    },
    {
      "cell_type": "code",
      "source": [
        "test.size"
      ],
      "metadata": {
        "colab": {
          "base_uri": "https://localhost:8080/"
        },
        "id": "yAZ8Z1vlCTvs",
        "outputId": "32b70f4c-9071-4bc0-fb0a-7d1fcfb7d854"
      },
      "execution_count": null,
      "outputs": [
        {
          "output_type": "execute_result",
          "data": {
            "text/plain": [
              "983710"
            ]
          },
          "metadata": {},
          "execution_count": 22
        }
      ]
    },
    {
      "cell_type": "code",
      "source": [
        "#remove all rows with \"0\" values in the \"name\" column\n",
        "test = test[test.name != \"0\"]"
      ],
      "metadata": {
        "id": "SJ4KRHLVLBb-"
      },
      "execution_count": null,
      "outputs": []
    },
    {
      "cell_type": "code",
      "source": [
        "test.size"
      ],
      "metadata": {
        "id": "3Jmveuf1VTTM",
        "outputId": "56718501-796c-4211-b921-6770fb72fc15",
        "colab": {
          "base_uri": "https://localhost:8080/"
        }
      },
      "execution_count": null,
      "outputs": [
        {
          "output_type": "execute_result",
          "data": {
            "text/plain": [
              "832784"
            ]
          },
          "metadata": {},
          "execution_count": 24
        }
      ]
    },
    {
      "cell_type": "code",
      "source": [
        "test['yr'] = test['yr'].astype('str')\n",
        "test['name'] = test['name'].astype('str')\n",
        "test['name'] = test['name'] + test['yr']\n",
        "test['name'] = test.name.str.split('.').str[0]"
      ],
      "metadata": {
        "id": "DLZ6iCa_Jd8V"
      },
      "execution_count": null,
      "outputs": []
    },
    {
      "cell_type": "code",
      "source": [
        "test['yr'] = test['yr'].astype('category')\n",
        "test['name'] = test['name'].astype('category')"
      ],
      "metadata": {
        "id": "goWR7LJBJwTI"
      },
      "execution_count": null,
      "outputs": []
    },
    {
      "cell_type": "code",
      "source": [
        "np.unique(test.name)"
      ],
      "metadata": {
        "id": "jQAMIwavc_Kt",
        "colab": {
          "base_uri": "https://localhost:8080/"
        },
        "outputId": "f57f5afd-acb9-48c8-d185-12c37850b601"
      },
      "execution_count": null,
      "outputs": [
        {
          "output_type": "execute_result",
          "data": {
            "text/plain": [
              "array(['AL0119931993', 'AL0120002000', 'AL0219921992', 'AL0219941994',\n",
              "       'AL0219991999', 'AL0220002000', 'AL0220012001', 'AL0220032003',\n",
              "       'AL0220062006', 'AL0319871987', 'AL0319921992', 'AL0419911991',\n",
              "       'AL0420002000', 'AL0519941994', 'AL0619881988', 'AL0619951995',\n",
              "       'AL0619971997', 'AL0620032003', 'AL0719991999', 'AL0720022002',\n",
              "       'AL0720032003', 'AL0819921992', 'AL0819941994', 'AL0919941994',\n",
              "       'AL0920002000', 'AL0920012001', 'AL0920032003', 'AL1019911991',\n",
              "       'AL1019931993', 'AL1019941994', 'AL1020042004', 'AL1119991999',\n",
              "       'AL1219911991', 'AL1219991999', 'AL1419951995', 'AL1420022002',\n",
              "       'AL1420032003', 'Al2020112011', 'Alberto1982', 'Alberto1988',\n",
              "       'Alberto1994', 'Alberto2000', 'Alberto2006', 'Alberto2012',\n",
              "       'Alberto2018', 'Alex1998', 'Alex2004', 'Alex2010', 'Alex2016',\n",
              "       'Alicia1983', 'Allison1989', 'Allison1995', 'Allison2001',\n",
              "       'Amelia1978', 'Amy1975', 'Ana1979', 'Ana1985', 'Ana1991',\n",
              "       'Ana1997', 'Ana2003', 'Ana2009', 'Ana2015', 'Ana2021',\n",
              "       'Andrea2013', 'Andrew1986', 'Andrew1992', 'Anita1977',\n",
              "       'Arthur1984', 'Arthur1990', 'Arthur1996', 'Arthur2002',\n",
              "       'Arthur2008', 'Arthur2014', 'Arthur2020', 'Barry1983', 'Barry1989',\n",
              "       'Barry1995', 'Barry2001', 'Barry2007', 'Barry2013', 'Barry2019',\n",
              "       'Belle1976', 'Beryl1982', 'Beryl1988', 'Beryl1994', 'Beryl2000',\n",
              "       'Beryl2006', 'Beryl2012', 'Beryl2018', 'Bess1978', 'Beta2005',\n",
              "       'Beta2020', 'Bill1997', 'Bill2003', 'Bill2009', 'Bill2015',\n",
              "       'Bill2021', 'Bob1979', 'Bob1985', 'Bob1991', 'Bonnie1980',\n",
              "       'Bonnie1986', 'Bonnie1992', 'Bonnie1998', 'Bonnie2004',\n",
              "       'Bonnie2010', 'Bonnie2016', 'Caroline1975', 'Cesar1984',\n",
              "       'Cesar1990', 'Cesar1996', 'Chantal1983', 'Chantal1989',\n",
              "       'Chantal1995', 'Chantal2001', 'Chantal2007', 'Chantal2013',\n",
              "       'Chantal2019', 'Charley1980', 'Charley1986', 'Charley1992',\n",
              "       'Charley1998', 'Charley2004', 'Chris1982', 'Chris1988',\n",
              "       'Chris1994', 'Chris2000', 'Chris2006', 'Chris2012', 'Chris2018',\n",
              "       'Clara1977', 'Claudette1979', 'Claudette1985', 'Claudette1991',\n",
              "       'Claudette1997', 'Claudette2003', 'Claudette2009', 'Claudette2015',\n",
              "       'Claudette2021', 'Colin2010', 'Colin2016', 'Cora1978',\n",
              "       'Cristobal2002', 'Cristobal2008', 'Cristobal2014', 'Cristobal2020',\n",
              "       'Danielle1980', 'Danielle1986', 'Danielle1992', 'Danielle1998',\n",
              "       'Danielle2004', 'Danielle2010', 'Danielle2016', 'Danny1985',\n",
              "       'Danny1991', 'Danny1997', 'Danny2003', 'Danny2009', 'Danny2015',\n",
              "       'Danny2021', 'David1979', 'Dean1983', 'Dean1989', 'Dean1995',\n",
              "       'Dean2001', 'Dean2007', 'Debby1982', 'Debby1988', 'Debby1994',\n",
              "       'Debby2000', 'Debby2006', 'Debby2012', 'Debby2018', 'Diana1984',\n",
              "       'Diana1990', 'Don2011', 'Don2017', 'Dorian2013', 'Dorian2019',\n",
              "       'Doris1975', 'Edouard1984', 'Edouard1990', 'Edouard1996',\n",
              "       'Edouard2002', 'Edouard2008', 'Edouard2014', 'Edouard2020',\n",
              "       'Eight2009', 'Eight2013', 'Eight2016', 'Eleven2018', 'Elsa2021',\n",
              "       'Emily1981', 'Emily1987', 'Emily1993', 'Emily1999', 'Emily2005',\n",
              "       'Emily2011', 'Emily2017', 'Epsilon2005', 'Epsilon2020',\n",
              "       'Erika1991', 'Erika1997', 'Erika2003', 'Erika2009', 'Erika2015',\n",
              "       'Erin1989', 'Erin1995', 'Erin2001', 'Erin2007', 'Erin2013',\n",
              "       'Erin2019', 'Ernesto1982', 'Ernesto1988', 'Ernesto1994',\n",
              "       'Ernesto2000', 'Ernesto2006', 'Ernesto2012', 'Ernesto2018',\n",
              "       'Eta2020', 'Eta2021', 'Evelyn1977', 'Fabian1985', 'Fabian1991',\n",
              "       'Fabian1997', 'Fabian2003', 'Fay2002', 'Fay2008', 'Fay2014',\n",
              "       'Fay2020', 'Felix1989', 'Felix1995', 'Felix2001', 'Felix2007',\n",
              "       'Fernand2013', 'Fernand2019', 'Fifteen2007', 'Fifteen2019',\n",
              "       'Fiona2010', 'Fiona2016', 'Five2010', 'Floyd1981', 'Floyd1987',\n",
              "       'Floyd1993', 'Floyd1999', 'Four2017', 'Franklin2005',\n",
              "       'Franklin2011', 'Franklin2017', 'Fred2009', 'Fred2015', 'Fred2021',\n",
              "       'Frederic1979', 'Gabrielle1989', 'Gabrielle1995', 'Gabrielle2001',\n",
              "       'Gabrielle2007', 'Gabrielle2013', 'Gabrielle2019', 'Gamma2005',\n",
              "       'Gamma2020', 'Gaston2004', 'Gaston2010', 'Gaston2016',\n",
              "       'Georges1980', 'Georges1998', 'Gert1981', 'Gert1993', 'Gert1999',\n",
              "       'Gert2005', 'Gert2011', 'Gert2017', 'Gilbert1988', 'Gloria1976',\n",
              "       'Gloria1979', 'Gloria1985', 'Gonzalo2014', 'Gonzalo2020',\n",
              "       'Gordon1994', 'Gordon2000', 'Gordon2006', 'Gordon2012',\n",
              "       'Gordon2018', 'Gustav1984', 'Gustav1990', 'Gustav1996',\n",
              "       'Gustav2002', 'Gustav2008', 'Hanna2002', 'Hanna2008', 'Hanna2014',\n",
              "       'Hanna2020', 'Harvey1981', 'Harvey1993', 'Harvey1999',\n",
              "       'Harvey2005', 'Harvey2011', 'Harvey2017', 'Henri1979', 'Henri1985',\n",
              "       'Henri2003', 'Henri2009', 'Henri2015', 'Henri2021', 'Hermine1980',\n",
              "       'Hermine1998', 'Hermine2004', 'Hermine2010', 'Hermine2016',\n",
              "       'Hortense1984', 'Hortense1990', 'Hortense1996', 'Hugo1989',\n",
              "       'Humberto1995', 'Humberto2001', 'Humberto2007', 'Humberto2013',\n",
              "       'Humberto2019', 'Ian2016', 'Ida2009', 'Ida2010', 'Ida2015',\n",
              "       'Ida2021', 'Igor2010', 'Ike2008', 'Imelda2019', 'Ingrid2007',\n",
              "       'Ingrid2013', 'Iota2020', 'Iris1989', 'Iris1995', 'Iris2001',\n",
              "       'Isaac1988', 'Isaac2000', 'Isaac2006', 'Isaac2012', 'Isaac2018',\n",
              "       'Isabel1985', 'Isabel2003', 'Isaias2020', 'Isidore1984',\n",
              "       'Isidore1990', 'Isidore1996', 'Isidore2002', 'Ivan1980',\n",
              "       'Ivan1998', 'Ivan2004', 'Jeanne1980', 'Jeanne1998', 'Jeanne2004',\n",
              "       'Jerry1989', 'Jerry1995', 'Jerry2001', 'Jerry2007', 'Jerry2013',\n",
              "       'Jerry2019', 'Joan1988', 'Joaquin2015', 'Josephine1984',\n",
              "       'Josephine1990', 'Josephine1996', 'Josephine2002', 'Josephine2008',\n",
              "       'Josephine2020', 'Joyce2000', 'Joyce2012', 'Joyce2018', 'Juan1985',\n",
              "       'Juan2003', 'Julia2010', 'Julia2016', 'Julian2021', 'Juliet1978',\n",
              "       'Karen1989', 'Karen1995', 'Karen2001', 'Karen2007', 'Karen2013',\n",
              "       'Karen2019', 'Karl1980', 'Karl1998', 'Karl2004', 'Karl2010',\n",
              "       'Karl2016', 'Kate1985', 'Kate2003', 'Kate2015', 'Kate2021',\n",
              "       'Katia2011', 'Katia2017', 'Katrina1981', 'Katrina1999',\n",
              "       'Katrina2005', 'Keith1988', 'Keith2000', 'Kirk2012', 'Kirk2018',\n",
              "       'Klaus1984', 'Klaus1990', 'Kyle1996', 'Kyle2002', 'Kyle2008',\n",
              "       'Kyle2020', 'Larry2003', 'Larry2021', 'Lee2005', 'Lee2011',\n",
              "       'Lee2017', 'Lenny1999', 'Leslie2000', 'Leslie2012', 'Leslie2018',\n",
              "       'Lili1984', 'Lili1990', 'Lili1996', 'Lili2002', 'Lisa1998',\n",
              "       'Lisa2004', 'Lisa2010', 'Lisa2016', 'Lorenzo2001', 'Lorenzo2007',\n",
              "       'Lorenzo2013', 'Lorenzo2019', 'Luis1995', 'Marco1990', 'Marco1996',\n",
              "       'Marco2008', 'Marco2020', 'Maria2005', 'Maria2011', 'Maria2017',\n",
              "       'Marilyn1995', 'Matthew2004', 'Matthew2010', 'Matthew2016',\n",
              "       'Melissa2007', 'Melissa2013', 'Melissa2019', 'Michael2000',\n",
              "       'Michael2012', 'Michael2018', 'Michelle2001', 'Mindy2003',\n",
              "       'Mindy2021', 'Mitch1998', 'Nadine2000', 'Nadine2012', 'Nadine2018',\n",
              "       'Nana1990', 'Nana2008', 'Nana2020', 'Nate2005', 'Nate2011',\n",
              "       'Nate2017', 'Nestor2019', 'Nicholas2003', 'Nicholas2021',\n",
              "       'Nicole1998', 'Nicole2010', 'Nicole2016', 'Nine2015',\n",
              "       'Nineteen2005', 'NoStorm1976', 'NoStorm1977', 'NoStorm1978',\n",
              "       'NoStorm1979', 'NoStorm1980', 'NoStorm1981', 'NoStorm1982',\n",
              "       'NoStorm1983', 'NoStorm1984', 'NoStorm1985', 'NoStorm1986',\n",
              "       'NoStorm1987', 'NoStorm1988', 'NoStorm1989', 'NoStorm1990',\n",
              "       'NoStorm1991', 'NoStorm1992', 'NoStorm1993', 'NoStorm1994',\n",
              "       'NoStorm1995', 'NoStorm1996', 'NoStorm1997', 'NoStorm1998',\n",
              "       'NoStorm1999', 'NoStorm2000', 'NoStorm2001', 'NoStorm2002',\n",
              "       'NoStorm2003', 'NoStorm2004', 'NoStorm2005', 'NoStorm2006',\n",
              "       'NoStorm2007', 'NoStorm2008', 'NoStorm2009', 'NoStorm2010',\n",
              "       'NoStorm2011', 'NoStorm2012', 'NoStorm2013', 'NoStorm2014',\n",
              "       'NoStorm2015', 'NoStorm2016', 'NoStorm2017', 'NoStorm2018',\n",
              "       'NoStorm2019', 'NoStorm2020', 'NoStorm2021', 'NoStorm2022',\n",
              "       'Noel1995', 'Noel2001', 'Noel2007', 'Odette2003', 'Odette2021',\n",
              "       'Olga2001', 'Olga2007', 'Olga2019', 'Omar2008', 'Omar2020',\n",
              "       'One2009', 'Opal1995', 'Ophelia2005', 'Ophelia2011', 'Ophelia2017',\n",
              "       'Oscar2012', 'Oscar2018', 'Otto2004', 'Otto2010', 'Otto2016',\n",
              "       'Pablo1995', 'Pablo2019', 'Paloma2008', 'Patty2012', 'Paula2010',\n",
              "       'Paulette2020', 'Peter2003', 'Peter2021', 'Philippe2005',\n",
              "       'Philippe2011', 'Philippe2017', 'Rafael2012', 'Rene2020',\n",
              "       'Richard2010', 'Rina2011', 'Rina2017', 'Rita2005', 'Rose2021',\n",
              "       'Roxanne1995', 'Sally2020', 'Sam2021', 'Sandy2012', 'Sean2011',\n",
              "       'Sebastien1995', 'Sebastien2019', 'Shary2010', 'Sixteen2008',\n",
              "       'Stan2005', 'Tammy2005', 'Tanya1995', 'Teddy2020', 'Ten2005',\n",
              "       'Ten2007', 'Ten2011', 'Theta2020', 'Three2019', 'Tomas2010',\n",
              "       'Tony2012', 'Two2010', 'Two2014', 'Vicky2020', 'Victor2021',\n",
              "       'Vince2005', 'Wanda2021', 'Wilfred2020', 'Wilma2005', 'Zeta2005',\n",
              "       'Zeta2006', 'Zeta2020'], dtype=object)"
            ]
          },
          "metadata": {},
          "execution_count": 27
        }
      ]
    },
    {
      "cell_type": "code",
      "source": [
        "test['ptlat']=np.nan\n",
        "test['ptlong']=np.nan"
      ],
      "metadata": {
        "id": "P0I3o42R-eWH"
      },
      "execution_count": null,
      "outputs": []
    },
    {
      "cell_type": "code",
      "source": [
        "hurf = hur\n",
        "hurf['year'] = hurf['year'].astype('str')\n",
        "hurf['name'] = hurf['name'].astype('str')\n",
        "\n",
        "hurf['name'] = hurf['name'] + hurf['year']"
      ],
      "metadata": {
        "id": "muKHomeYZ1ZJ"
      },
      "execution_count": null,
      "outputs": []
    },
    {
      "cell_type": "code",
      "source": [
        "minlat = hurf[['lat','name']].groupby(by = \"name\").min()\n",
        "minlat = minlat.rename(columns={\"lat\": \"minlat\"})\n",
        "\n",
        "minlon = hurf[['long','name']].groupby(by = \"name\").min()\n",
        "minlon = minlon.rename(columns={\"long\": \"minlong\"})"
      ],
      "metadata": {
        "id": "h-TowOWoIZ2y"
      },
      "execution_count": null,
      "outputs": []
    },
    {
      "cell_type": "code",
      "source": [
        "hurf = None\n",
        "hur = None"
      ],
      "metadata": {
        "id": "_y7XcJsLmdaT"
      },
      "execution_count": null,
      "outputs": []
    },
    {
      "cell_type": "code",
      "source": [
        "test = pd.merge(test, minlon, left_on='name', right_on = \"name\", how=\"left\" )\n",
        "test = pd.merge(test, minlat, left_on='name', right_on = \"name\", how=\"left\" )"
      ],
      "metadata": {
        "id": "dNFjw7VbKN7e"
      },
      "execution_count": null,
      "outputs": []
    },
    {
      "cell_type": "code",
      "source": [
        "test.columns"
      ],
      "metadata": {
        "id": "VNKJ4D6ERp_g",
        "colab": {
          "base_uri": "https://localhost:8080/"
        },
        "outputId": "e92ec82a-3950-4e9c-fc1b-50025ef9f531"
      },
      "execution_count": null,
      "outputs": [
        {
          "output_type": "execute_result",
          "data": {
            "text/plain": [
              "Index(['Unnamed: 0.1', 'PipeIDX', 'Unnamed: 0', 'CAUSE', 'DATE',\n",
              "       'INCIDENT_CITY', 'INCIDENT_COUNTY', 'INCIDENT_STATE', 'ZIP_CODE',\n",
              "       'INSTALLATION_YEAR', 'ADDRESS', 'LATITUDE', 'LONGITUDE', 'MANYR',\n",
              "       'TYPE', 'ITMYR', 'year', 'Point', 'PipeIdx', 'name', 'month', 'day',\n",
              "       'hour', 'lat', 'long', 'status', 'category', 'wind', 'pressure',\n",
              "       'tropicalstorm_force_diameter', 'hurricane_force_diameter', 'DATETIME1',\n",
              "       'date', 'start_date', 'time', 'pointh', 'end_date', 'dateTime',\n",
              "       'HurIdx', 'diftime', 'distance', 'frequency', 'max_int', 'fourplus',\n",
              "       'yr', 'failTF', 'ptlat', 'ptlong', 'minlong', 'minlat'],\n",
              "      dtype='object')"
            ]
          },
          "metadata": {},
          "execution_count": 34
        }
      ]
    },
    {
      "cell_type": "code",
      "source": [
        "test.wind[test.wind==0]=12\n",
        "test.pressure[test.pressure==0]=1050\n",
        "test.minlat[test.minlat.isnull()]=float(minlat.max())\n",
        "test.minlong[test.minlong.isnull()]=float(minlon.min())"
      ],
      "metadata": {
        "id": "7c5xWWnNJ4cG",
        "colab": {
          "base_uri": "https://localhost:8080/"
        },
        "outputId": "5d346a20-3419-41e6-c2b3-aa9fa076a586"
      },
      "execution_count": null,
      "outputs": [
        {
          "output_type": "stream",
          "name": "stderr",
          "text": [
            "<ipython-input-35-dc0a269f84fa>:1: SettingWithCopyWarning: \n",
            "A value is trying to be set on a copy of a slice from a DataFrame\n",
            "\n",
            "See the caveats in the documentation: https://pandas.pydata.org/pandas-docs/stable/user_guide/indexing.html#returning-a-view-versus-a-copy\n",
            "  test.wind[test.wind==0]=12\n",
            "<ipython-input-35-dc0a269f84fa>:2: SettingWithCopyWarning: \n",
            "A value is trying to be set on a copy of a slice from a DataFrame\n",
            "\n",
            "See the caveats in the documentation: https://pandas.pydata.org/pandas-docs/stable/user_guide/indexing.html#returning-a-view-versus-a-copy\n",
            "  test.pressure[test.pressure==0]=1050\n",
            "<ipython-input-35-dc0a269f84fa>:3: FutureWarning: Calling float on a single element Series is deprecated and will raise a TypeError in the future. Use float(ser.iloc[0]) instead\n",
            "  test.minlat[test.minlat.isnull()]=float(minlat.max())\n",
            "<ipython-input-35-dc0a269f84fa>:3: SettingWithCopyWarning: \n",
            "A value is trying to be set on a copy of a slice from a DataFrame\n",
            "\n",
            "See the caveats in the documentation: https://pandas.pydata.org/pandas-docs/stable/user_guide/indexing.html#returning-a-view-versus-a-copy\n",
            "  test.minlat[test.minlat.isnull()]=float(minlat.max())\n",
            "<ipython-input-35-dc0a269f84fa>:4: FutureWarning: Calling float on a single element Series is deprecated and will raise a TypeError in the future. Use float(ser.iloc[0]) instead\n",
            "  test.minlong[test.minlong.isnull()]=float(minlon.min())\n",
            "<ipython-input-35-dc0a269f84fa>:4: SettingWithCopyWarning: \n",
            "A value is trying to be set on a copy of a slice from a DataFrame\n",
            "\n",
            "See the caveats in the documentation: https://pandas.pydata.org/pandas-docs/stable/user_guide/indexing.html#returning-a-view-versus-a-copy\n",
            "  test.minlong[test.minlong.isnull()]=float(minlon.min())\n"
          ]
        }
      ]
    },
    {
      "cell_type": "code",
      "source": [
        "test.minlong.isnull()"
      ],
      "metadata": {
        "id": "ia6i7TbHf3qs",
        "colab": {
          "base_uri": "https://localhost:8080/"
        },
        "outputId": "71e9baad-6adb-4ab9-b407-6e122a431e20"
      },
      "execution_count": null,
      "outputs": [
        {
          "output_type": "execute_result",
          "data": {
            "text/plain": [
              "0        False\n",
              "1        False\n",
              "2        False\n",
              "3        False\n",
              "4        False\n",
              "         ...  \n",
              "18099    False\n",
              "18100    False\n",
              "18101    False\n",
              "18102    False\n",
              "18103    False\n",
              "Name: minlong, Length: 18104, dtype: bool"
            ]
          },
          "metadata": {},
          "execution_count": 36
        }
      ]
    },
    {
      "cell_type": "code",
      "source": [
        "#test.pressure = test.pressure *-1"
      ],
      "metadata": {
        "id": "mIR-M4euJ-VP"
      },
      "execution_count": null,
      "outputs": []
    },
    {
      "cell_type": "markdown",
      "source": [],
      "metadata": {
        "id": "V_4Nk8mXwvHN"
      }
    },
    {
      "cell_type": "code",
      "source": [
        "test.CAUSE[test.CAUSE == 'DAMAGE BY OUTSIDE FORCES']='outside'\n",
        "test.CAUSE[test.CAUSE == 'CONSTRUCTION DEFECT/MATERIAL FAILURE']='outside'\n",
        "test.CAUSE[test.CAUSE == 'CORROSION']='outside'\n",
        "test.CAUSE[test.CAUSE == 'OTHER']='outside'\n",
        "test.CAUSE[test.CAUSE == 'CONSTRUCTION/OPERATING ERROR']='human'\n",
        "test.CAUSE[test.CAUSE == 'DAMAGE BY OUTSIDE FORCE']='outside'\n",
        "test.CAUSE[test.CAUSE == 'CONSTRUCTION/MATERIAL DEFECT']='outside'\n",
        "test.CAUSE[test.CAUSE == 'ACCIDENTALLY CAUSED BY OPERATOR']='outside'\n",
        "test.CAUSE[test.CAUSE =='OUTSIDE FORCE DAMAGE']='outside'\n",
        "test.CAUSE[test.CAUSE =='FAILED PIPE']= 'outside'\n",
        "test.CAUSE[test.CAUSE =='FAILED WELD']='outside',\n",
        "test.CAUSE[test.CAUSE == 'MALFUNCTION OF CONTROL OR RELIEF EQUIPMENT']= 'outside'\n",
        "test.CAUSE[test.CAUSE =='INCORRECT OPERATION BY OPERATOR PERSONNEL']= 'human'\n",
        "test.CAUSE[test.CAUSE =='EXCAVATION DAMAGE']='human'\n",
        "test.CAUSE[test.CAUSE =='OTHER OUTSIDE FORCE DAMAGE']='outside'\n",
        "test.CAUSE[test.CAUSE =='INCORRECT OPERATION']= 'human'\n",
        "test.CAUSE[test.CAUSE =='MATERIAL AND/OR WELD FAILURES']='outside'\n",
        "test.CAUSE[test.CAUSE == 'EQUIPMENT']='outside'\n",
        "test.CAUSE[test.CAUSE =='NATURAL FORCES']='natural'\n",
        "test.CAUSE[test.CAUSE =='EQUIPMENT FAILURE']='outside'\n",
        "test.CAUSE[test.CAUSE =='CORROSION FAILURE']='outside'\n",
        "test.CAUSE[test.CAUSE =='MATERIAL FAILURE OF PIPE OR WELD']='outside'\n",
        "test.CAUSE[test.CAUSE =='NATURAL FORCE DAMAGE']= 'natural'\n",
        "test.CAUSE[test.CAUSE =='OTHER INCIDENT CAUSE']='outside'\n"
      ],
      "metadata": {
        "id": "PafsVxhpbuMO",
        "colab": {
          "base_uri": "https://localhost:8080/"
        },
        "outputId": "f51936d7-1845-4ac3-fde3-dd423f785eaa"
      },
      "execution_count": null,
      "outputs": [
        {
          "output_type": "stream",
          "name": "stderr",
          "text": [
            "<ipython-input-37-8a6087fcc35a>:1: SettingWithCopyWarning: \n",
            "A value is trying to be set on a copy of a slice from a DataFrame\n",
            "\n",
            "See the caveats in the documentation: https://pandas.pydata.org/pandas-docs/stable/user_guide/indexing.html#returning-a-view-versus-a-copy\n",
            "  test.CAUSE[test.CAUSE == 'DAMAGE BY OUTSIDE FORCES']='outside'\n",
            "<ipython-input-37-8a6087fcc35a>:2: SettingWithCopyWarning: \n",
            "A value is trying to be set on a copy of a slice from a DataFrame\n",
            "\n",
            "See the caveats in the documentation: https://pandas.pydata.org/pandas-docs/stable/user_guide/indexing.html#returning-a-view-versus-a-copy\n",
            "  test.CAUSE[test.CAUSE == 'CONSTRUCTION DEFECT/MATERIAL FAILURE']='outside'\n",
            "<ipython-input-37-8a6087fcc35a>:3: SettingWithCopyWarning: \n",
            "A value is trying to be set on a copy of a slice from a DataFrame\n",
            "\n",
            "See the caveats in the documentation: https://pandas.pydata.org/pandas-docs/stable/user_guide/indexing.html#returning-a-view-versus-a-copy\n",
            "  test.CAUSE[test.CAUSE == 'CORROSION']='outside'\n",
            "<ipython-input-37-8a6087fcc35a>:4: SettingWithCopyWarning: \n",
            "A value is trying to be set on a copy of a slice from a DataFrame\n",
            "\n",
            "See the caveats in the documentation: https://pandas.pydata.org/pandas-docs/stable/user_guide/indexing.html#returning-a-view-versus-a-copy\n",
            "  test.CAUSE[test.CAUSE == 'OTHER']='outside'\n",
            "<ipython-input-37-8a6087fcc35a>:5: SettingWithCopyWarning: \n",
            "A value is trying to be set on a copy of a slice from a DataFrame\n",
            "\n",
            "See the caveats in the documentation: https://pandas.pydata.org/pandas-docs/stable/user_guide/indexing.html#returning-a-view-versus-a-copy\n",
            "  test.CAUSE[test.CAUSE == 'CONSTRUCTION/OPERATING ERROR']='human'\n",
            "<ipython-input-37-8a6087fcc35a>:6: SettingWithCopyWarning: \n",
            "A value is trying to be set on a copy of a slice from a DataFrame\n",
            "\n",
            "See the caveats in the documentation: https://pandas.pydata.org/pandas-docs/stable/user_guide/indexing.html#returning-a-view-versus-a-copy\n",
            "  test.CAUSE[test.CAUSE == 'DAMAGE BY OUTSIDE FORCE']='outside'\n",
            "<ipython-input-37-8a6087fcc35a>:7: SettingWithCopyWarning: \n",
            "A value is trying to be set on a copy of a slice from a DataFrame\n",
            "\n",
            "See the caveats in the documentation: https://pandas.pydata.org/pandas-docs/stable/user_guide/indexing.html#returning-a-view-versus-a-copy\n",
            "  test.CAUSE[test.CAUSE == 'CONSTRUCTION/MATERIAL DEFECT']='outside'\n",
            "<ipython-input-37-8a6087fcc35a>:8: SettingWithCopyWarning: \n",
            "A value is trying to be set on a copy of a slice from a DataFrame\n",
            "\n",
            "See the caveats in the documentation: https://pandas.pydata.org/pandas-docs/stable/user_guide/indexing.html#returning-a-view-versus-a-copy\n",
            "  test.CAUSE[test.CAUSE == 'ACCIDENTALLY CAUSED BY OPERATOR']='outside'\n",
            "<ipython-input-37-8a6087fcc35a>:9: SettingWithCopyWarning: \n",
            "A value is trying to be set on a copy of a slice from a DataFrame\n",
            "\n",
            "See the caveats in the documentation: https://pandas.pydata.org/pandas-docs/stable/user_guide/indexing.html#returning-a-view-versus-a-copy\n",
            "  test.CAUSE[test.CAUSE =='OUTSIDE FORCE DAMAGE']='outside'\n",
            "<ipython-input-37-8a6087fcc35a>:10: SettingWithCopyWarning: \n",
            "A value is trying to be set on a copy of a slice from a DataFrame\n",
            "\n",
            "See the caveats in the documentation: https://pandas.pydata.org/pandas-docs/stable/user_guide/indexing.html#returning-a-view-versus-a-copy\n",
            "  test.CAUSE[test.CAUSE =='FAILED PIPE']= 'outside'\n",
            "<ipython-input-37-8a6087fcc35a>:11: SettingWithCopyWarning: \n",
            "A value is trying to be set on a copy of a slice from a DataFrame\n",
            "\n",
            "See the caveats in the documentation: https://pandas.pydata.org/pandas-docs/stable/user_guide/indexing.html#returning-a-view-versus-a-copy\n",
            "  test.CAUSE[test.CAUSE =='FAILED WELD']='outside',\n",
            "<ipython-input-37-8a6087fcc35a>:12: SettingWithCopyWarning: \n",
            "A value is trying to be set on a copy of a slice from a DataFrame\n",
            "\n",
            "See the caveats in the documentation: https://pandas.pydata.org/pandas-docs/stable/user_guide/indexing.html#returning-a-view-versus-a-copy\n",
            "  test.CAUSE[test.CAUSE == 'MALFUNCTION OF CONTROL OR RELIEF EQUIPMENT']= 'outside'\n",
            "<ipython-input-37-8a6087fcc35a>:13: SettingWithCopyWarning: \n",
            "A value is trying to be set on a copy of a slice from a DataFrame\n",
            "\n",
            "See the caveats in the documentation: https://pandas.pydata.org/pandas-docs/stable/user_guide/indexing.html#returning-a-view-versus-a-copy\n",
            "  test.CAUSE[test.CAUSE =='INCORRECT OPERATION BY OPERATOR PERSONNEL']= 'human'\n",
            "<ipython-input-37-8a6087fcc35a>:14: SettingWithCopyWarning: \n",
            "A value is trying to be set on a copy of a slice from a DataFrame\n",
            "\n",
            "See the caveats in the documentation: https://pandas.pydata.org/pandas-docs/stable/user_guide/indexing.html#returning-a-view-versus-a-copy\n",
            "  test.CAUSE[test.CAUSE =='EXCAVATION DAMAGE']='human'\n",
            "<ipython-input-37-8a6087fcc35a>:15: SettingWithCopyWarning: \n",
            "A value is trying to be set on a copy of a slice from a DataFrame\n",
            "\n",
            "See the caveats in the documentation: https://pandas.pydata.org/pandas-docs/stable/user_guide/indexing.html#returning-a-view-versus-a-copy\n",
            "  test.CAUSE[test.CAUSE =='OTHER OUTSIDE FORCE DAMAGE']='outside'\n",
            "<ipython-input-37-8a6087fcc35a>:16: SettingWithCopyWarning: \n",
            "A value is trying to be set on a copy of a slice from a DataFrame\n",
            "\n",
            "See the caveats in the documentation: https://pandas.pydata.org/pandas-docs/stable/user_guide/indexing.html#returning-a-view-versus-a-copy\n",
            "  test.CAUSE[test.CAUSE =='INCORRECT OPERATION']= 'human'\n",
            "<ipython-input-37-8a6087fcc35a>:17: SettingWithCopyWarning: \n",
            "A value is trying to be set on a copy of a slice from a DataFrame\n",
            "\n",
            "See the caveats in the documentation: https://pandas.pydata.org/pandas-docs/stable/user_guide/indexing.html#returning-a-view-versus-a-copy\n",
            "  test.CAUSE[test.CAUSE =='MATERIAL AND/OR WELD FAILURES']='outside'\n",
            "<ipython-input-37-8a6087fcc35a>:18: SettingWithCopyWarning: \n",
            "A value is trying to be set on a copy of a slice from a DataFrame\n",
            "\n",
            "See the caveats in the documentation: https://pandas.pydata.org/pandas-docs/stable/user_guide/indexing.html#returning-a-view-versus-a-copy\n",
            "  test.CAUSE[test.CAUSE == 'EQUIPMENT']='outside'\n",
            "<ipython-input-37-8a6087fcc35a>:19: SettingWithCopyWarning: \n",
            "A value is trying to be set on a copy of a slice from a DataFrame\n",
            "\n",
            "See the caveats in the documentation: https://pandas.pydata.org/pandas-docs/stable/user_guide/indexing.html#returning-a-view-versus-a-copy\n",
            "  test.CAUSE[test.CAUSE =='NATURAL FORCES']='natural'\n",
            "<ipython-input-37-8a6087fcc35a>:20: SettingWithCopyWarning: \n",
            "A value is trying to be set on a copy of a slice from a DataFrame\n",
            "\n",
            "See the caveats in the documentation: https://pandas.pydata.org/pandas-docs/stable/user_guide/indexing.html#returning-a-view-versus-a-copy\n",
            "  test.CAUSE[test.CAUSE =='EQUIPMENT FAILURE']='outside'\n",
            "<ipython-input-37-8a6087fcc35a>:21: SettingWithCopyWarning: \n",
            "A value is trying to be set on a copy of a slice from a DataFrame\n",
            "\n",
            "See the caveats in the documentation: https://pandas.pydata.org/pandas-docs/stable/user_guide/indexing.html#returning-a-view-versus-a-copy\n",
            "  test.CAUSE[test.CAUSE =='CORROSION FAILURE']='outside'\n",
            "<ipython-input-37-8a6087fcc35a>:22: SettingWithCopyWarning: \n",
            "A value is trying to be set on a copy of a slice from a DataFrame\n",
            "\n",
            "See the caveats in the documentation: https://pandas.pydata.org/pandas-docs/stable/user_guide/indexing.html#returning-a-view-versus-a-copy\n",
            "  test.CAUSE[test.CAUSE =='MATERIAL FAILURE OF PIPE OR WELD']='outside'\n",
            "<ipython-input-37-8a6087fcc35a>:23: SettingWithCopyWarning: \n",
            "A value is trying to be set on a copy of a slice from a DataFrame\n",
            "\n",
            "See the caveats in the documentation: https://pandas.pydata.org/pandas-docs/stable/user_guide/indexing.html#returning-a-view-versus-a-copy\n",
            "  test.CAUSE[test.CAUSE =='NATURAL FORCE DAMAGE']= 'natural'\n",
            "<ipython-input-37-8a6087fcc35a>:24: SettingWithCopyWarning: \n",
            "A value is trying to be set on a copy of a slice from a DataFrame\n",
            "\n",
            "See the caveats in the documentation: https://pandas.pydata.org/pandas-docs/stable/user_guide/indexing.html#returning-a-view-versus-a-copy\n",
            "  test.CAUSE[test.CAUSE =='OTHER INCIDENT CAUSE']='outside'\n"
          ]
        }
      ]
    },
    {
      "cell_type": "code",
      "source": [
        "test.CAUSE=test.CAUSE.astype('category')\n",
        "test.CAUSE.unique()"
      ],
      "metadata": {
        "id": "hEzJcv5MFQ4d",
        "colab": {
          "base_uri": "https://localhost:8080/"
        },
        "outputId": "af8d184a-4e00-47b9-88c4-03c197b8206e"
      },
      "execution_count": null,
      "outputs": [
        {
          "output_type": "execute_result",
          "data": {
            "text/plain": [
              "['outside', 'human', 'natural', NaN]\n",
              "Categories (3, object): ['human', 'natural', 'outside']"
            ]
          },
          "metadata": {},
          "execution_count": 38
        }
      ]
    },
    {
      "cell_type": "code",
      "source": [
        "world = gpd.read_file(gpd.datasets.get_path('naturalearth_lowres'))"
      ],
      "metadata": {
        "id": "ktZ0aI2ui7tU",
        "colab": {
          "base_uri": "https://localhost:8080/"
        },
        "outputId": "3ac35836-1cba-465c-d06b-3e792e51056a"
      },
      "execution_count": null,
      "outputs": [
        {
          "output_type": "stream",
          "name": "stderr",
          "text": [
            "<ipython-input-39-1902369eb8ba>:1: FutureWarning: The geopandas.dataset module is deprecated and will be removed in GeoPandas 1.0. You can get the original 'naturalearth_lowres' data from https://www.naturalearthdata.com/downloads/110m-cultural-vectors/.\n",
            "  world = gpd.read_file(gpd.datasets.get_path('naturalearth_lowres'))\n"
          ]
        }
      ]
    },
    {
      "cell_type": "code",
      "source": [
        "N_a= world.loc[world['name'] == 'United States of America']\n",
        "N_a_p= world.loc[world['continent'] == 'North America']"
      ],
      "metadata": {
        "id": "WJMmhAMYpQTZ"
      },
      "execution_count": null,
      "outputs": []
    },
    {
      "cell_type": "code",
      "source": [
        "world = None"
      ],
      "metadata": {
        "id": "ctglIiEGm9HF"
      },
      "execution_count": null,
      "outputs": []
    },
    {
      "cell_type": "code",
      "source": [
        "gdf = gpd.GeoDataFrame(\n",
        "    test, geometry=gpd.points_from_xy(test.ptlong, test.ptlat), crs=\"EPSG:4326\"\n",
        ")"
      ],
      "metadata": {
        "id": "ex17214apZrI"
      },
      "execution_count": null,
      "outputs": []
    },
    {
      "cell_type": "code",
      "source": [
        "#N_a = N_a.to_crs()\n",
        "gdfclip = gpd.clip(gdf, N_a.buffer(0.35))\n",
        "gdfclip.shape"
      ],
      "metadata": {
        "id": "_0fOEDYqK9fT"
      },
      "execution_count": null,
      "outputs": []
    },
    {
      "cell_type": "code",
      "source": [
        "sum(test.failTF)"
      ],
      "metadata": {
        "id": "O1Zo2268Lz1A",
        "colab": {
          "base_uri": "https://localhost:8080/"
        },
        "outputId": "ee478558-a60a-40f5-9150-f0de75577ff1"
      },
      "execution_count": null,
      "outputs": [
        {
          "output_type": "execute_result",
          "data": {
            "text/plain": [
              "6461.0"
            ]
          },
          "metadata": {},
          "execution_count": 44
        }
      ]
    },
    {
      "cell_type": "code",
      "source": [
        "gdfclip[gdfclip.failTF==1].shape"
      ],
      "metadata": {
        "id": "YXg309NYLlzv",
        "colab": {
          "base_uri": "https://localhost:8080/"
        },
        "outputId": "799bbd1f-5b98-408e-f7f5-fd6bc354027b"
      },
      "execution_count": null,
      "outputs": [
        {
          "output_type": "execute_result",
          "data": {
            "text/plain": [
              "(6342, 51)"
            ]
          },
          "metadata": {},
          "execution_count": 45
        }
      ]
    },
    {
      "cell_type": "code",
      "source": [
        "gdfclip.columns"
      ],
      "metadata": {
        "id": "gKeyFDPgSMmN",
        "colab": {
          "base_uri": "https://localhost:8080/"
        },
        "outputId": "da32b998-2ef4-4c65-f3df-169b3835c3dc"
      },
      "execution_count": null,
      "outputs": [
        {
          "output_type": "execute_result",
          "data": {
            "text/plain": [
              "Index(['Unnamed: 0.1', 'PipeIDX', 'Unnamed: 0', 'CAUSE', 'DATE',\n",
              "       'INCIDENT_CITY', 'INCIDENT_COUNTY', 'INCIDENT_STATE', 'ZIP_CODE',\n",
              "       'INSTALLATION_YEAR', 'ADDRESS', 'LATITUDE', 'LONGITUDE', 'MANYR',\n",
              "       'TYPE', 'ITMYR', 'year', 'Point', 'PipeIdx', 'name', 'month', 'day',\n",
              "       'hour', 'lat', 'long', 'status', 'category', 'wind', 'pressure',\n",
              "       'tropicalstorm_force_diameter', 'hurricane_force_diameter', 'DATETIME1',\n",
              "       'date', 'start_date', 'time', 'pointh', 'end_date', 'dateTime',\n",
              "       'HurIdx', 'diftime', 'distance', 'frequency', 'max_int', 'fourplus',\n",
              "       'yr', 'failTF', 'ptlat', 'ptlong', 'minlong', 'minlat', 'geometry'],\n",
              "      dtype='object')"
            ]
          },
          "metadata": {},
          "execution_count": 46
        }
      ]
    },
    {
      "cell_type": "code",
      "source": [
        "f, ax1 = plt.subplots(figsize=(10, 6))\n",
        "N_a_p.plot(ax=ax1,facecolor=\"none\", edgecolor='black',)\n",
        "gdfclip.plot(ax=ax1,\n",
        "            column=gdfclip.failTF, cmap='Paired',\n",
        "            markersize=20, legend= True\n",
        "           )\n",
        "\n",
        "#overlap.plot(ax=ax1, color='black',\n",
        "#                markersize=50\n",
        "#                )\n",
        "\n",
        "ax1.set(title=\"Pipeline Failures by cause\")\n",
        "plt.show()"
      ],
      "metadata": {
        "id": "2pRhCxslLdqk",
        "colab": {
          "base_uri": "https://localhost:8080/",
          "height": 513
        },
        "outputId": "bba781ef-11c7-4acd-d8f5-708a248a7907"
      },
      "execution_count": null,
      "outputs": [
        {
          "output_type": "display_data",
          "data": {
            "text/plain": [
              "<Figure size 1000x600 with 2 Axes>"
            ],
            "image/png": "[encoded data removed]"
          },
          "metadata": {}
        }
      ]
    },
    {
      "cell_type": "code",
      "source": [
        "np.random.seed(0)\n",
        "kmeans = KMeans(n_clusters=6, random_state=0, n_init=\"auto\").fit(gdfclip[['ptlat', 'ptlong']])\n",
        "gdfclip['locGrp']=kmeans.predict(gdfclip[['ptlat', 'ptlong']])\n",
        "gdfclip.locGrp=gdfclip.locGrp.astype('category')"
      ],
      "metadata": {
        "id": "NA0Xmr1p1OD8"
      },
      "execution_count": null,
      "outputs": []
    },
    {
      "cell_type": "code",
      "source": [
        "# Format and plot your results from task 2\n",
        "# Format and plot your results from task 2\n",
        "f, ax1 = plt.subplots(figsize=(10, 6))\n",
        "N_a_p.plot(ax=ax1,facecolor=\"none\", edgecolor='black',)\n",
        "gdfclip.plot(ax=ax1,\n",
        "            column=gdfclip.locGrp,cmap=\"tab10\",\n",
        "            markersize=10, legend= True\n",
        "           )\n",
        "\n",
        "N_a.plot(ax=ax1,facecolor=\"none\", edgecolor='black',)\n",
        "\n",
        "ax1.set(title=\"Pipeline Failures location groups\")\n",
        "plt.show()\n"
      ],
      "metadata": {
        "id": "sbD0gBSU2P29",
        "colab": {
          "base_uri": "https://localhost:8080/",
          "height": 545
        },
        "outputId": "1cd08cdf-6564-4a08-9058-9f17cba7e9fd"
      },
      "execution_count": null,
      "outputs": [
        {
          "output_type": "display_data",
          "data": {
            "text/plain": [
              "<Figure size 1000x600 with 1 Axes>"
            ],
            "image/png": "[encoded data removed]"
          },
          "metadata": {}
        }
      ]
    },
    {
      "cell_type": "markdown",
      "source": [
        "## Save binomial fail Y/N merge"
      ],
      "metadata": {
        "id": "lvQxmYU3WY47"
      }
    },
    {
      "cell_type": "code",
      "source": [
        "binom = gdfclip[[\"PipeIDX\", \"CAUSE\", \"LATITUDE\", \"LONGITUDE\", \"yr\", 'lat', 'long', 'status', 'category', 'wind', 'pressure',\n",
        "       'tropicalstorm_force_diameter', 'hurricane_force_diameter','HurIdx', 'diftime', 'distance', 'frequency', 'max_int', 'fourplus',\n",
        "       'yr', 'failTF', 'locGrp', 'ptlong', 'ptlat', 'minlong','minlat']]"
      ],
      "metadata": {
        "id": "VOleEETLYOUR"
      },
      "execution_count": null,
      "outputs": []
    },
    {
      "cell_type": "code",
      "source": [
        "binom.to_csv(\"analysis_ready_binomial.csv\")"
      ],
      "metadata": {
        "id": "wNfXCbcEYHhQ"
      },
      "execution_count": null,
      "outputs": []
    },
    {
      "cell_type": "code",
      "source": [
        "binom = None"
      ],
      "metadata": {
        "id": "-oaO4j9DnDaJ"
      },
      "execution_count": null,
      "outputs": []
    },
    {
      "cell_type": "code",
      "source": [
        "test = None"
      ],
      "metadata": {
        "id": "Ijrbb8TpnI0E"
      },
      "execution_count": null,
      "outputs": []
    },
    {
      "cell_type": "markdown",
      "source": [
        "##Part 2: Frequency data\n",
        "\n",
        "Frequency counts for mixed effects model:\n"
      ],
      "metadata": {
        "id": "CD99BUB92tp8"
      }
    },
    {
      "cell_type": "code",
      "source": [
        "#Collapse dataframe\n",
        "ard = gdfclip[['INSTALLATION_YEAR','name','lat', 'long', 'status', 'category', 'wind', 'pressure', 'tropicalstorm_force_diameter', 'hurricane_force_diameter','date', 'yr', 'failTF','locGrp', 'ptlong', 'ptlat', 'minlong','minlat']]"
      ],
      "metadata": {
        "id": "3rCy6wIA2smc"
      },
      "execution_count": null,
      "outputs": []
    },
    {
      "cell_type": "code",
      "source": [
        "gdfclip = None"
      ],
      "metadata": {
        "id": "YQUP3mKNotWl"
      },
      "execution_count": null,
      "outputs": []
    },
    {
      "cell_type": "code",
      "source": [
        "ard.locGrp = ard.locGrp.astype('category')\n",
        "ard.name = ard.name.astype('category')\n",
        "ard.yr = ard.yr.astype('category')"
      ],
      "metadata": {
        "id": "wXH5hZPu9Hld"
      },
      "execution_count": null,
      "outputs": []
    },
    {
      "cell_type": "code",
      "source": [
        "ard1 =ard[['name','locGrp', 'yr','category','wind','pressure',  \"minlong\",'ptlat','failTF', 'minlat', 'ptlong']].groupby(by=['name', 'locGrp','yr']).agg(\n",
        "    {'ptlat': ['mean'], 'ptlong': ['mean'], 'wind':['max'], 'pressure':['min'], 'minlong':['min'], 'minlat':['min'], 'failTF':['sum']}).reset_index()\n",
        "ard1 = ard1.dropna()\n",
        "ard1.columns = ['name','locGrp', 'yr','ptlat_mean', 'ptlong_mean', 'wind_max', 'pressure_min', 'minlong_min', 'minlat_min','failTF_sum']\n",
        "ard1.head()"
      ],
      "metadata": {
        "id": "_1J1Vt-uU5UJ",
        "colab": {
          "base_uri": "https://localhost:8080/",
          "height": 226
        },
        "outputId": "25c1edf5-74ad-4bc6-a43f-d2fe9d0ac511"
      },
      "execution_count": null,
      "outputs": [
        {
          "output_type": "execute_result",
          "data": {
            "text/plain": [
              "             name locGrp      yr  ptlat_mean  ptlong_mean  wind_max  \\\n",
              "161  AL0219921992      3  1992.0   28.500000   -82.900000      30.0   \n",
              "451  AL0219941994      3  1994.0   33.775000   -79.750000      30.0   \n",
              "499  AL0219941994      4  1994.0   38.609196   -81.405919      20.0   \n",
              "588  AL0319871987      0  1987.0   33.006273   -96.539115      30.0   \n",
              "684  AL0319871987      2  1987.0   31.375636   -89.098491      40.0   \n",
              "\n",
              "     pressure_min  minlong_min  minlat_min  failTF_sum  \n",
              "161        1007.0        -85.5        24.5         0.0  \n",
              "451        1015.0        -81.0        32.2         0.0  \n",
              "499        1016.0        -81.0        32.2         1.0  \n",
              "588        1009.0        -94.0        26.3         1.0  \n",
              "684        1007.0        -94.0        26.3         2.0  "
            ],
            "text/html": [
              "\n",
              "  <div id=\"df-4f105217-faf4-44f8-95be-cfbad9fb7b5f\" class=\"colab-df-container\">\n",
              "    <div>\n",
              "<style scoped>\n",
              "    .dataframe tbody tr th:only-of-type {\n",
              "        vertical-align: middle;\n",
              "    }\n",
              "\n",
              "    .dataframe tbody tr th {\n",
              "        vertical-align: top;\n",
              "    }\n",
              "\n",
              "    .dataframe thead th {\n",
              "        text-align: right;\n",
              "    }\n",
              "</style>\n",
              "<table border=\"1\" class=\"dataframe\">\n",
              "  <thead>\n",
              "    <tr style=\"text-align: right;\">\n",
              "      <th></th>\n",
              "      <th>name</th>\n",
              "      <th>locGrp</th>\n",
              "      <th>yr</th>\n",
              "      <th>ptlat_mean</th>\n",
              "      <th>ptlong_mean</th>\n",
              "      <th>wind_max</th>\n",
              "      <th>pressure_min</th>\n",
              "      <th>minlong_min</th>\n",
              "      <th>minlat_min</th>\n",
              "      <th>failTF_sum</th>\n",
              "    </tr>\n",
              "  </thead>\n",
              "  <tbody>\n",
              "    <tr>\n",
              "      <th>161</th>\n",
              "      <td>AL0219921992</td>\n",
              "      <td>3</td>\n",
              "      <td>1992.0</td>\n",
              "      <td>28.500000</td>\n",
              "      <td>-82.900000</td>\n",
              "      <td>30.0</td>\n",
              "      <td>1007.0</td>\n",
              "      <td>-85.5</td>\n",
              "      <td>24.5</td>\n",
              "      <td>0.0</td>\n",
              "    </tr>\n",
              "    <tr>\n",
              "      <th>451</th>\n",
              "      <td>AL0219941994</td>\n",
              "      <td>3</td>\n",
              "      <td>1994.0</td>\n",
              "      <td>33.775000</td>\n",
              "      <td>-79.750000</td>\n",
              "      <td>30.0</td>\n",
              "      <td>1015.0</td>\n",
              "      <td>-81.0</td>\n",
              "      <td>32.2</td>\n",
              "      <td>0.0</td>\n",
              "    </tr>\n",
              "    <tr>\n",
              "      <th>499</th>\n",
              "      <td>AL0219941994</td>\n",
              "      <td>4</td>\n",
              "      <td>1994.0</td>\n",
              "      <td>38.609196</td>\n",
              "      <td>-81.405919</td>\n",
              "      <td>20.0</td>\n",
              "      <td>1016.0</td>\n",
              "      <td>-81.0</td>\n",
              "      <td>32.2</td>\n",
              "      <td>1.0</td>\n",
              "    </tr>\n",
              "    <tr>\n",
              "      <th>588</th>\n",
              "      <td>AL0319871987</td>\n",
              "      <td>0</td>\n",
              "      <td>1987.0</td>\n",
              "      <td>33.006273</td>\n",
              "      <td>-96.539115</td>\n",
              "      <td>30.0</td>\n",
              "      <td>1009.0</td>\n",
              "      <td>-94.0</td>\n",
              "      <td>26.3</td>\n",
              "      <td>1.0</td>\n",
              "    </tr>\n",
              "    <tr>\n",
              "      <th>684</th>\n",
              "      <td>AL0319871987</td>\n",
              "      <td>2</td>\n",
              "      <td>1987.0</td>\n",
              "      <td>31.375636</td>\n",
              "      <td>-89.098491</td>\n",
              "      <td>40.0</td>\n",
              "      <td>1007.0</td>\n",
              "      <td>-94.0</td>\n",
              "      <td>26.3</td>\n",
              "      <td>2.0</td>\n",
              "    </tr>\n",
              "  </tbody>\n",
              "</table>\n",
              "</div>\n",
              "    <div class=\"colab-df-buttons\">\n",
              "\n",
              "  <div class=\"colab-df-container\">\n",
              "    <button class=\"colab-df-convert\" onclick=\"convertToInteractive('df-4f105217-faf4-44f8-95be-cfbad9fb7b5f')\"\n",
              "            title=\"Convert this dataframe to an interactive table.\"\n",
              "            style=\"display:none;\">\n",
              "\n",
              "  <svg xmlns=\"http://www.w3.org/2000/svg\" height=\"24px\" viewBox=\"0 -960 960 960\">\n",
              "    <path d=\"M120-120v-720h720v720H120Zm60-500h600v-160H180v160Zm220 220h160v-160H400v160Zm0 220h160v-160H400v160ZM180-400h160v-160H180v160Zm440 0h160v-160H620v160ZM180-180h160v-160H180v160Zm440 0h160v-160H620v160Z\"/>\n",
              "  </svg>\n",
              "    </button>\n",
              "\n",
              "  <style>\n",
              "    .colab-df-container {\n",
              "      display:flex;\n",
              "      gap: 12px;\n",
              "    }\n",
              "\n",
              "    .colab-df-convert {\n",
              "      background-color: #E8F0FE;\n",
              "      border: none;\n",
              "      border-radius: 50%;\n",
              "      cursor: pointer;\n",
              "      display: none;\n",
              "      fill: #1967D2;\n",
              "      height: 32px;\n",
              "      padding: 0 0 0 0;\n",
              "      width: 32px;\n",
              "    }\n",
              "\n",
              "    .colab-df-convert:hover {\n",
              "      background-color: #E2EBFA;\n",
              "      box-shadow: 0px 1px 2px rgba(60, 64, 67, 0.3), 0px 1px 3px 1px rgba(60, 64, 67, 0.15);\n",
              "      fill: #174EA6;\n",
              "    }\n",
              "\n",
              "    .colab-df-buttons div {\n",
              "      margin-bottom: 4px;\n",
              "    }\n",
              "\n",
              "    [theme=dark] .colab-df-convert {\n",
              "      background-color: #3B4455;\n",
              "      fill: #D2E3FC;\n",
              "    }\n",
              "\n",
              "    [theme=dark] .colab-df-convert:hover {\n",
              "      background-color: #434B5C;\n",
              "      box-shadow: 0px 1px 3px 1px rgba(0, 0, 0, 0.15);\n",
              "      filter: drop-shadow(0px 1px 2px rgba(0, 0, 0, 0.3));\n",
              "      fill: #FFFFFF;\n",
              "    }\n",
              "  </style>\n",
              "\n",
              "    <script>\n",
              "      const buttonEl =\n",
              "        document.querySelector('#df-4f105217-faf4-44f8-95be-cfbad9fb7b5f button.colab-df-convert');\n",
              "      buttonEl.style.display =\n",
              "        google.colab.kernel.accessAllowed ? 'block' : 'none';\n",
              "\n",
              "      async function convertToInteractive(key) {\n",
              "        const element = document.querySelector('#df-4f105217-faf4-44f8-95be-cfbad9fb7b5f');\n",
              "        const dataTable =\n",
              "          await google.colab.kernel.invokeFunction('convertToInteractive',\n",
              "                                                    [key], {});\n",
              "        if (!dataTable) return;\n",
              "\n",
              "        const docLinkHtml = 'Like what you see? Visit the ' +\n",
              "          '<a target=\"_blank\" href=https://colab.research.google.com/notebooks/data_table.ipynb>data table notebook</a>'\n",
              "          + ' to learn more about interactive tables.';\n",
              "        element.innerHTML = '';\n",
              "        dataTable['output_type'] = 'display_data';\n",
              "        await google.colab.output.renderOutput(dataTable, element);\n",
              "        const docLink = document.createElement('div');\n",
              "        docLink.innerHTML = docLinkHtml;\n",
              "        element.appendChild(docLink);\n",
              "      }\n",
              "    </script>\n",
              "  </div>\n",
              "\n",
              "\n",
              "<div id=\"df-e43cd262-5960-4348-88ac-a47afd929fb1\">\n",
              "  <button class=\"colab-df-quickchart\" onclick=\"quickchart('df-e43cd262-5960-4348-88ac-a47afd929fb1')\"\n",
              "            title=\"Suggest charts\"\n",
              "            style=\"display:none;\">\n",
              "\n",
              "<svg xmlns=\"http://www.w3.org/2000/svg\" height=\"24px\"viewBox=\"0 0 24 24\"\n",
              "     width=\"24px\">\n",
              "    <g>\n",
              "        <path d=\"M19 3H5c-1.1 0-2 .9-2 2v14c0 1.1.9 2 2 2h14c1.1 0 2-.9 2-2V5c0-1.1-.9-2-2-2zM9 17H7v-7h2v7zm4 0h-2V7h2v10zm4 0h-2v-4h2v4z\"/>\n",
              "    </g>\n",
              "</svg>\n",
              "  </button>\n",
              "\n",
              "<style>\n",
              "  .colab-df-quickchart {\n",
              "      --bg-color: #E8F0FE;\n",
              "      --fill-color: #1967D2;\n",
              "      --hover-bg-color: #E2EBFA;\n",
              "      --hover-fill-color: #174EA6;\n",
              "      --disabled-fill-color: #AAA;\n",
              "      --disabled-bg-color: #DDD;\n",
              "  }\n",
              "\n",
              "  [theme=dark] .colab-df-quickchart {\n",
              "      --bg-color: #3B4455;\n",
              "      --fill-color: #D2E3FC;\n",
              "      --hover-bg-color: #434B5C;\n",
              "      --hover-fill-color: #FFFFFF;\n",
              "      --disabled-bg-color: #3B4455;\n",
              "      --disabled-fill-color: #666;\n",
              "  }\n",
              "\n",
              "  .colab-df-quickchart {\n",
              "    background-color: var(--bg-color);\n",
              "    border: none;\n",
              "    border-radius: 50%;\n",
              "    cursor: pointer;\n",
              "    display: none;\n",
              "    fill: var(--fill-color);\n",
              "    height: 32px;\n",
              "    padding: 0;\n",
              "    width: 32px;\n",
              "  }\n",
              "\n",
              "  .colab-df-quickchart:hover {\n",
              "    background-color: var(--hover-bg-color);\n",
              "    box-shadow: 0 1px 2px rgba(60, 64, 67, 0.3), 0 1px 3px 1px rgba(60, 64, 67, 0.15);\n",
              "    fill: var(--button-hover-fill-color);\n",
              "  }\n",
              "\n",
              "  .colab-df-quickchart-complete:disabled,\n",
              "  .colab-df-quickchart-complete:disabled:hover {\n",
              "    background-color: var(--disabled-bg-color);\n",
              "    fill: var(--disabled-fill-color);\n",
              "    box-shadow: none;\n",
              "  }\n",
              "\n",
              "  .colab-df-spinner {\n",
              "    border: 2px solid var(--fill-color);\n",
              "    border-color: transparent;\n",
              "    border-bottom-color: var(--fill-color);\n",
              "    animation:\n",
              "      spin 1s steps(1) infinite;\n",
              "  }\n",
              "\n",
              "  @keyframes spin {\n",
              "    0% {\n",
              "      border-color: transparent;\n",
              "      border-bottom-color: var(--fill-color);\n",
              "      border-left-color: var(--fill-color);\n",
              "    }\n",
              "    20% {\n",
              "      border-color: transparent;\n",
              "      border-left-color: var(--fill-color);\n",
              "      border-top-color: var(--fill-color);\n",
              "    }\n",
              "    30% {\n",
              "      border-color: transparent;\n",
              "      border-left-color: var(--fill-color);\n",
              "      border-top-color: var(--fill-color);\n",
              "      border-right-color: var(--fill-color);\n",
              "    }\n",
              "    40% {\n",
              "      border-color: transparent;\n",
              "      border-right-color: var(--fill-color);\n",
              "      border-top-color: var(--fill-color);\n",
              "    }\n",
              "    60% {\n",
              "      border-color: transparent;\n",
              "      border-right-color: var(--fill-color);\n",
              "    }\n",
              "    80% {\n",
              "      border-color: transparent;\n",
              "      border-right-color: var(--fill-color);\n",
              "      border-bottom-color: var(--fill-color);\n",
              "    }\n",
              "    90% {\n",
              "      border-color: transparent;\n",
              "      border-bottom-color: var(--fill-color);\n",
              "    }\n",
              "  }\n",
              "</style>\n",
              "\n",
              "  <script>\n",
              "    async function quickchart(key) {\n",
              "      const quickchartButtonEl =\n",
              "        document.querySelector('#' + key + ' button');\n",
              "      quickchartButtonEl.disabled = true;  // To prevent multiple clicks.\n",
              "      quickchartButtonEl.classList.add('colab-df-spinner');\n",
              "      try {\n",
              "        const charts = await google.colab.kernel.invokeFunction(\n",
              "            'suggestCharts', [key], {});\n",
              "      } catch (error) {\n",
              "        console.error('Error during call to suggestCharts:', error);\n",
              "      }\n",
              "      quickchartButtonEl.classList.remove('colab-df-spinner');\n",
              "      quickchartButtonEl.classList.add('colab-df-quickchart-complete');\n",
              "    }\n",
              "    (() => {\n",
              "      let quickchartButtonEl =\n",
              "        document.querySelector('#df-e43cd262-5960-4348-88ac-a47afd929fb1 button');\n",
              "      quickchartButtonEl.style.display =\n",
              "        google.colab.kernel.accessAllowed ? 'block' : 'none';\n",
              "    })();\n",
              "  </script>\n",
              "</div>\n",
              "    </div>\n",
              "  </div>\n"
            ],
            "application/vnd.google.colaboratory.intrinsic+json": {
              "type": "dataframe",
              "variable_name": "ard1",
              "summary": "{\n  \"name\": \"ard1\",\n  \"rows\": 602,\n  \"fields\": [\n    {\n      \"column\": \"name\",\n      \"properties\": {\n        \"dtype\": \"category\",\n        \"num_unique_values\": 217,\n        \"samples\": [\n          \"One2009\",\n          \"Two2010\",\n          \"Karen2013\"\n        ],\n        \"semantic_type\": \"\",\n        \"description\": \"\"\n      }\n    },\n    {\n      \"column\": \"locGrp\",\n      \"properties\": {\n        \"dtype\": \"category\",\n        \"num_unique_values\": 6,\n        \"samples\": [\n          3,\n          4,\n          1\n        ],\n        \"semantic_type\": \"\",\n        \"description\": \"\"\n      }\n    },\n    {\n      \"column\": \"yr\",\n      \"properties\": {\n        \"dtype\": \"category\",\n        \"num_unique_values\": 48,\n        \"samples\": [\n          \"1988.0\",\n          \"2011.0\",\n          \"1976.0\"\n        ],\n        \"semantic_type\": \"\",\n        \"description\": \"\"\n      }\n    },\n    {\n      \"column\": \"ptlat_mean\",\n      \"properties\": {\n        \"dtype\": \"number\",\n        \"std\": 3.9892591738819463,\n        \"min\": 25.1,\n        \"max\": 42.02992925,\n        \"num_unique_values\": 598,\n        \"samples\": [\n          32.88651636666666,\n          33.82582655,\n          31.791797315789477\n        ],\n        \"semantic_type\": \"\",\n        \"description\": \"\"\n      }\n    },\n    {\n      \"column\": \"ptlong_mean\",\n      \"properties\": {\n        \"dtype\": \"number\",\n        \"std\": 7.631014831517541,\n        \"min\": -102.6,\n        \"max\": -71.69965013333332,\n        \"num_unique_values\": 598,\n        \"samples\": [\n          -95.1348845,\n          -90.88839722857142,\n          -90.75144142105263\n        ],\n        \"semantic_type\": \"\",\n        \"description\": \"\"\n      }\n    },\n    {\n      \"column\": \"wind_max\",\n      \"properties\": {\n        \"dtype\": \"number\",\n        \"std\": 27.085313782498293,\n        \"min\": 10.0,\n        \"max\": 145.0,\n        \"num_unique_values\": 28,\n        \"samples\": [\n          100.0,\n          110.0,\n          85.0\n        ],\n        \"semantic_type\": \"\",\n        \"description\": \"\"\n      }\n    },\n    {\n      \"column\": \"pressure_min\",\n      \"properties\": {\n        \"dtype\": \"number\",\n        \"std\": 32.145219883076486,\n        \"min\": 905.0,\n        \"max\": 1050.0,\n        \"num_unique_values\": 74,\n        \"samples\": [\n          1011.0,\n          965.0,\n          999.0\n        ],\n        \"semantic_type\": \"\",\n        \"description\": \"\"\n      }\n    },\n    {\n      \"column\": \"minlong_min\",\n      \"properties\": {\n        \"dtype\": \"number\",\n        \"std\": 11.549369136777976,\n        \"min\": -109.3,\n        \"max\": -71.5,\n        \"num_unique_values\": 132,\n        \"samples\": [\n          -80.7,\n          -103.7,\n          -91.7\n        ],\n        \"semantic_type\": \"\",\n        \"description\": \"\"\n      }\n    },\n    {\n      \"column\": \"minlat_min\",\n      \"properties\": {\n        \"dtype\": \"number\",\n        \"std\": 11.413357036899688,\n        \"min\": 8.9,\n        \"max\": 42.4,\n        \"num_unique_values\": 118,\n        \"samples\": [\n          22.8,\n          19.1,\n          27.5\n        ],\n        \"semantic_type\": \"\",\n        \"description\": \"\"\n      }\n    },\n    {\n      \"column\": \"failTF_sum\",\n      \"properties\": {\n        \"dtype\": \"number\",\n        \"std\": 14.263958481099017,\n        \"min\": 0.0,\n        \"max\": 123.0,\n        \"num_unique_values\": 58,\n        \"samples\": [\n          0.0,\n          12.0,\n          45.0\n        ],\n        \"semantic_type\": \"\",\n        \"description\": \"\"\n      }\n    }\n  ]\n}"
            }
          },
          "metadata": {},
          "execution_count": 60
        }
      ]
    },
    {
      "cell_type": "code",
      "source": [
        "ard1.shape"
      ],
      "metadata": {
        "id": "z--xMzOAXYVu",
        "colab": {
          "base_uri": "https://localhost:8080/"
        },
        "outputId": "a4213114-dbb5-4ee3-f068-97c20358ab1e"
      },
      "execution_count": null,
      "outputs": [
        {
          "output_type": "execute_result",
          "data": {
            "text/plain": [
              "(602, 10)"
            ]
          },
          "metadata": {},
          "execution_count": 61
        }
      ]
    },
    {
      "cell_type": "code",
      "source": [
        "ard1.to_csv(\"analysis_ready.csv\")"
      ],
      "metadata": {
        "id": "nfq0afah-G2r"
      },
      "execution_count": null,
      "outputs": []
    }
  ]
}