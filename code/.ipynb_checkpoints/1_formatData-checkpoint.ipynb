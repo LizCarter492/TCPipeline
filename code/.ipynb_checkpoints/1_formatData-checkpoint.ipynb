{
 "cells": [
  {
   "cell_type": "code",
   "execution_count": null,
   "metadata": {
    "colab": {
     "base_uri": "https://localhost:8080/"
    },
    "id": "jH0p9s7D9txT",
    "outputId": "198fe003-14fa-462c-e263-0d935cff4408",
    "scrolled": true
   },
   "outputs": [],
   "source": [
    "#!pip install geopandas"
   ]
  },
  {
   "cell_type": "code",
   "execution_count": 1,
   "metadata": {
    "id": "7FzS50bt9zd7"
   },
   "outputs": [],
   "source": [
    "import pandas as pd\n",
    "from IPython.display import HTML\n",
    "import os\n",
    "import urllib.request\n",
    "import xlrd\n",
    "import matplotlib.pyplot as plt\n",
    "import numpy as np\n",
    "import geopandas as gpd\n",
    "import geopandas as gdf\n",
    "from shapely.geometry import Point\n",
    "import datetime\n",
    "import geopy\n",
    "import geopy.distance\n",
    "import seaborn as sns\n",
    "from geopandas import GeoDataFrame\n",
    "from collections import Counter\n",
    "import statsmodels.api as sm\n",
    "import statsmodels.formula.api as smf\n",
    "import collections\n",
    "from itertools import compress\n",
    "from sklearn.cluster import KMeans\n",
    "import csv"
   ]
  },
  {
   "cell_type": "markdown",
   "metadata": {
    "id": "0A7t5QFHVU3g"
   },
   "source": [
    "#TO DO\n",
    "Write a text intro\n",
    "Clean notebook\n",
    "Add an \"open in colab\" button\n",
    "Get url download link for original csvs.\n",
    "\n",
    "*   Write a text intro\n",
    "*   Clean notebook\n",
    "*   Add an \"open in colab\" button\n",
    "*   Get url download link for original csvs.List item\n",
    "\n"
   ]
  },
  {
   "cell_type": "code",
   "execution_count": 3,
   "metadata": {
    "id": "yFX8XHHi93KT"
   },
   "outputs": [],
   "source": [
    "import os\n",
    "os.chdir('../raw_data')"
   ]
  },
  {
   "cell_type": "markdown",
   "metadata": {
    "id": "QGvuCaemU0FN"
   },
   "source": [
    "Note, if working from the Zenodo repository, set the working directory to the \"raw_data\" folder. Outputs from this script can be found in the \"analysis_data\" folder."
   ]
  },
  {
   "cell_type": "code",
   "execution_count": 4,
   "metadata": {
    "colab": {
     "base_uri": "https://localhost:8080/"
    },
    "id": "og2EDucO-jvL",
    "outputId": "4397ec15-959c-40d7-bce3-bb35d25b3ae8"
   },
   "outputs": [
    {
     "ename": "FileNotFoundError",
     "evalue": "[Errno 2] No such file or directory: 'pipeline_failures_storm.csv'",
     "output_type": "error",
     "traceback": [
      "\u001b[1;31m---------------------------------------------------------------------------\u001b[0m",
      "\u001b[1;31mFileNotFoundError\u001b[0m                         Traceback (most recent call last)",
      "\u001b[1;32m~\\AppData\\Local\\Temp/ipykernel_33280/703680772.py\u001b[0m in \u001b[0;36m<module>\u001b[1;34m\u001b[0m\n\u001b[1;32m----> 1\u001b[1;33m \u001b[0ma\u001b[0m \u001b[1;33m=\u001b[0m\u001b[0mpd\u001b[0m\u001b[1;33m.\u001b[0m\u001b[0mread_csv\u001b[0m\u001b[1;33m(\u001b[0m\u001b[1;34m'pipeline_failures_storm.csv'\u001b[0m\u001b[1;33m,\u001b[0m \u001b[0mlow_memory\u001b[0m\u001b[1;33m=\u001b[0m\u001b[1;32mFalse\u001b[0m\u001b[1;33m)\u001b[0m\u001b[1;33m\u001b[0m\u001b[1;33m\u001b[0m\u001b[0m\n\u001b[0m\u001b[0;32m      2\u001b[0m \u001b[0ma\u001b[0m\u001b[1;33m.\u001b[0m\u001b[0mDATE\u001b[0m \u001b[1;33m=\u001b[0m \u001b[0mpd\u001b[0m\u001b[1;33m.\u001b[0m\u001b[0mto_datetime\u001b[0m\u001b[1;33m(\u001b[0m\u001b[0ma\u001b[0m\u001b[1;33m.\u001b[0m\u001b[0mDATE\u001b[0m\u001b[1;33m)\u001b[0m\u001b[1;33m\u001b[0m\u001b[1;33m\u001b[0m\u001b[0m\n",
      "\u001b[1;32mC:\\Apps-SU\\Anaconda3\\envs\\geoplot_compatible\\lib\\site-packages\\pandas\\util\\_decorators.py\u001b[0m in \u001b[0;36mwrapper\u001b[1;34m(*args, **kwargs)\u001b[0m\n\u001b[0;32m    309\u001b[0m                     \u001b[0mstacklevel\u001b[0m\u001b[1;33m=\u001b[0m\u001b[0mstacklevel\u001b[0m\u001b[1;33m,\u001b[0m\u001b[1;33m\u001b[0m\u001b[1;33m\u001b[0m\u001b[0m\n\u001b[0;32m    310\u001b[0m                 )\n\u001b[1;32m--> 311\u001b[1;33m             \u001b[1;32mreturn\u001b[0m \u001b[0mfunc\u001b[0m\u001b[1;33m(\u001b[0m\u001b[1;33m*\u001b[0m\u001b[0margs\u001b[0m\u001b[1;33m,\u001b[0m \u001b[1;33m**\u001b[0m\u001b[0mkwargs\u001b[0m\u001b[1;33m)\u001b[0m\u001b[1;33m\u001b[0m\u001b[1;33m\u001b[0m\u001b[0m\n\u001b[0m\u001b[0;32m    312\u001b[0m \u001b[1;33m\u001b[0m\u001b[0m\n\u001b[0;32m    313\u001b[0m         \u001b[1;32mreturn\u001b[0m \u001b[0mwrapper\u001b[0m\u001b[1;33m\u001b[0m\u001b[1;33m\u001b[0m\u001b[0m\n",
      "\u001b[1;32mC:\\Apps-SU\\Anaconda3\\envs\\geoplot_compatible\\lib\\site-packages\\pandas\\io\\parsers\\readers.py\u001b[0m in \u001b[0;36mread_csv\u001b[1;34m(filepath_or_buffer, sep, delimiter, header, names, index_col, usecols, squeeze, prefix, mangle_dupe_cols, dtype, engine, converters, true_values, false_values, skipinitialspace, skiprows, skipfooter, nrows, na_values, keep_default_na, na_filter, verbose, skip_blank_lines, parse_dates, infer_datetime_format, keep_date_col, date_parser, dayfirst, cache_dates, iterator, chunksize, compression, thousands, decimal, lineterminator, quotechar, quoting, doublequote, escapechar, comment, encoding, encoding_errors, dialect, error_bad_lines, warn_bad_lines, on_bad_lines, delim_whitespace, low_memory, memory_map, float_precision, storage_options)\u001b[0m\n\u001b[0;32m    584\u001b[0m     \u001b[0mkwds\u001b[0m\u001b[1;33m.\u001b[0m\u001b[0mupdate\u001b[0m\u001b[1;33m(\u001b[0m\u001b[0mkwds_defaults\u001b[0m\u001b[1;33m)\u001b[0m\u001b[1;33m\u001b[0m\u001b[1;33m\u001b[0m\u001b[0m\n\u001b[0;32m    585\u001b[0m \u001b[1;33m\u001b[0m\u001b[0m\n\u001b[1;32m--> 586\u001b[1;33m     \u001b[1;32mreturn\u001b[0m \u001b[0m_read\u001b[0m\u001b[1;33m(\u001b[0m\u001b[0mfilepath_or_buffer\u001b[0m\u001b[1;33m,\u001b[0m \u001b[0mkwds\u001b[0m\u001b[1;33m)\u001b[0m\u001b[1;33m\u001b[0m\u001b[1;33m\u001b[0m\u001b[0m\n\u001b[0m\u001b[0;32m    587\u001b[0m \u001b[1;33m\u001b[0m\u001b[0m\n\u001b[0;32m    588\u001b[0m \u001b[1;33m\u001b[0m\u001b[0m\n",
      "\u001b[1;32mC:\\Apps-SU\\Anaconda3\\envs\\geoplot_compatible\\lib\\site-packages\\pandas\\io\\parsers\\readers.py\u001b[0m in \u001b[0;36m_read\u001b[1;34m(filepath_or_buffer, kwds)\u001b[0m\n\u001b[0;32m    480\u001b[0m \u001b[1;33m\u001b[0m\u001b[0m\n\u001b[0;32m    481\u001b[0m     \u001b[1;31m# Create the parser.\u001b[0m\u001b[1;33m\u001b[0m\u001b[1;33m\u001b[0m\u001b[1;33m\u001b[0m\u001b[0m\n\u001b[1;32m--> 482\u001b[1;33m     \u001b[0mparser\u001b[0m \u001b[1;33m=\u001b[0m \u001b[0mTextFileReader\u001b[0m\u001b[1;33m(\u001b[0m\u001b[0mfilepath_or_buffer\u001b[0m\u001b[1;33m,\u001b[0m \u001b[1;33m**\u001b[0m\u001b[0mkwds\u001b[0m\u001b[1;33m)\u001b[0m\u001b[1;33m\u001b[0m\u001b[1;33m\u001b[0m\u001b[0m\n\u001b[0m\u001b[0;32m    483\u001b[0m \u001b[1;33m\u001b[0m\u001b[0m\n\u001b[0;32m    484\u001b[0m     \u001b[1;32mif\u001b[0m \u001b[0mchunksize\u001b[0m \u001b[1;32mor\u001b[0m \u001b[0miterator\u001b[0m\u001b[1;33m:\u001b[0m\u001b[1;33m\u001b[0m\u001b[1;33m\u001b[0m\u001b[0m\n",
      "\u001b[1;32mC:\\Apps-SU\\Anaconda3\\envs\\geoplot_compatible\\lib\\site-packages\\pandas\\io\\parsers\\readers.py\u001b[0m in \u001b[0;36m__init__\u001b[1;34m(self, f, engine, **kwds)\u001b[0m\n\u001b[0;32m    809\u001b[0m             \u001b[0mself\u001b[0m\u001b[1;33m.\u001b[0m\u001b[0moptions\u001b[0m\u001b[1;33m[\u001b[0m\u001b[1;34m\"has_index_names\"\u001b[0m\u001b[1;33m]\u001b[0m \u001b[1;33m=\u001b[0m \u001b[0mkwds\u001b[0m\u001b[1;33m[\u001b[0m\u001b[1;34m\"has_index_names\"\u001b[0m\u001b[1;33m]\u001b[0m\u001b[1;33m\u001b[0m\u001b[1;33m\u001b[0m\u001b[0m\n\u001b[0;32m    810\u001b[0m \u001b[1;33m\u001b[0m\u001b[0m\n\u001b[1;32m--> 811\u001b[1;33m         \u001b[0mself\u001b[0m\u001b[1;33m.\u001b[0m\u001b[0m_engine\u001b[0m \u001b[1;33m=\u001b[0m \u001b[0mself\u001b[0m\u001b[1;33m.\u001b[0m\u001b[0m_make_engine\u001b[0m\u001b[1;33m(\u001b[0m\u001b[0mself\u001b[0m\u001b[1;33m.\u001b[0m\u001b[0mengine\u001b[0m\u001b[1;33m)\u001b[0m\u001b[1;33m\u001b[0m\u001b[1;33m\u001b[0m\u001b[0m\n\u001b[0m\u001b[0;32m    812\u001b[0m \u001b[1;33m\u001b[0m\u001b[0m\n\u001b[0;32m    813\u001b[0m     \u001b[1;32mdef\u001b[0m \u001b[0mclose\u001b[0m\u001b[1;33m(\u001b[0m\u001b[0mself\u001b[0m\u001b[1;33m)\u001b[0m\u001b[1;33m:\u001b[0m\u001b[1;33m\u001b[0m\u001b[1;33m\u001b[0m\u001b[0m\n",
      "\u001b[1;32mC:\\Apps-SU\\Anaconda3\\envs\\geoplot_compatible\\lib\\site-packages\\pandas\\io\\parsers\\readers.py\u001b[0m in \u001b[0;36m_make_engine\u001b[1;34m(self, engine)\u001b[0m\n\u001b[0;32m   1038\u001b[0m             )\n\u001b[0;32m   1039\u001b[0m         \u001b[1;31m# error: Too many arguments for \"ParserBase\"\u001b[0m\u001b[1;33m\u001b[0m\u001b[1;33m\u001b[0m\u001b[1;33m\u001b[0m\u001b[0m\n\u001b[1;32m-> 1040\u001b[1;33m         \u001b[1;32mreturn\u001b[0m \u001b[0mmapping\u001b[0m\u001b[1;33m[\u001b[0m\u001b[0mengine\u001b[0m\u001b[1;33m]\u001b[0m\u001b[1;33m(\u001b[0m\u001b[0mself\u001b[0m\u001b[1;33m.\u001b[0m\u001b[0mf\u001b[0m\u001b[1;33m,\u001b[0m \u001b[1;33m**\u001b[0m\u001b[0mself\u001b[0m\u001b[1;33m.\u001b[0m\u001b[0moptions\u001b[0m\u001b[1;33m)\u001b[0m  \u001b[1;31m# type: ignore[call-arg]\u001b[0m\u001b[1;33m\u001b[0m\u001b[1;33m\u001b[0m\u001b[0m\n\u001b[0m\u001b[0;32m   1041\u001b[0m \u001b[1;33m\u001b[0m\u001b[0m\n\u001b[0;32m   1042\u001b[0m     \u001b[1;32mdef\u001b[0m \u001b[0m_failover_to_python\u001b[0m\u001b[1;33m(\u001b[0m\u001b[0mself\u001b[0m\u001b[1;33m)\u001b[0m\u001b[1;33m:\u001b[0m\u001b[1;33m\u001b[0m\u001b[1;33m\u001b[0m\u001b[0m\n",
      "\u001b[1;32mC:\\Apps-SU\\Anaconda3\\envs\\geoplot_compatible\\lib\\site-packages\\pandas\\io\\parsers\\c_parser_wrapper.py\u001b[0m in \u001b[0;36m__init__\u001b[1;34m(self, src, **kwds)\u001b[0m\n\u001b[0;32m     49\u001b[0m \u001b[1;33m\u001b[0m\u001b[0m\n\u001b[0;32m     50\u001b[0m         \u001b[1;31m# open handles\u001b[0m\u001b[1;33m\u001b[0m\u001b[1;33m\u001b[0m\u001b[1;33m\u001b[0m\u001b[0m\n\u001b[1;32m---> 51\u001b[1;33m         \u001b[0mself\u001b[0m\u001b[1;33m.\u001b[0m\u001b[0m_open_handles\u001b[0m\u001b[1;33m(\u001b[0m\u001b[0msrc\u001b[0m\u001b[1;33m,\u001b[0m \u001b[0mkwds\u001b[0m\u001b[1;33m)\u001b[0m\u001b[1;33m\u001b[0m\u001b[1;33m\u001b[0m\u001b[0m\n\u001b[0m\u001b[0;32m     52\u001b[0m         \u001b[1;32massert\u001b[0m \u001b[0mself\u001b[0m\u001b[1;33m.\u001b[0m\u001b[0mhandles\u001b[0m \u001b[1;32mis\u001b[0m \u001b[1;32mnot\u001b[0m \u001b[1;32mNone\u001b[0m\u001b[1;33m\u001b[0m\u001b[1;33m\u001b[0m\u001b[0m\n\u001b[0;32m     53\u001b[0m \u001b[1;33m\u001b[0m\u001b[0m\n",
      "\u001b[1;32mC:\\Apps-SU\\Anaconda3\\envs\\geoplot_compatible\\lib\\site-packages\\pandas\\io\\parsers\\base_parser.py\u001b[0m in \u001b[0;36m_open_handles\u001b[1;34m(self, src, kwds)\u001b[0m\n\u001b[0;32m    227\u001b[0m             \u001b[0mmemory_map\u001b[0m\u001b[1;33m=\u001b[0m\u001b[0mkwds\u001b[0m\u001b[1;33m.\u001b[0m\u001b[0mget\u001b[0m\u001b[1;33m(\u001b[0m\u001b[1;34m\"memory_map\"\u001b[0m\u001b[1;33m,\u001b[0m \u001b[1;32mFalse\u001b[0m\u001b[1;33m)\u001b[0m\u001b[1;33m,\u001b[0m\u001b[1;33m\u001b[0m\u001b[1;33m\u001b[0m\u001b[0m\n\u001b[0;32m    228\u001b[0m             \u001b[0mstorage_options\u001b[0m\u001b[1;33m=\u001b[0m\u001b[0mkwds\u001b[0m\u001b[1;33m.\u001b[0m\u001b[0mget\u001b[0m\u001b[1;33m(\u001b[0m\u001b[1;34m\"storage_options\"\u001b[0m\u001b[1;33m,\u001b[0m \u001b[1;32mNone\u001b[0m\u001b[1;33m)\u001b[0m\u001b[1;33m,\u001b[0m\u001b[1;33m\u001b[0m\u001b[1;33m\u001b[0m\u001b[0m\n\u001b[1;32m--> 229\u001b[1;33m             \u001b[0merrors\u001b[0m\u001b[1;33m=\u001b[0m\u001b[0mkwds\u001b[0m\u001b[1;33m.\u001b[0m\u001b[0mget\u001b[0m\u001b[1;33m(\u001b[0m\u001b[1;34m\"encoding_errors\"\u001b[0m\u001b[1;33m,\u001b[0m \u001b[1;34m\"strict\"\u001b[0m\u001b[1;33m)\u001b[0m\u001b[1;33m,\u001b[0m\u001b[1;33m\u001b[0m\u001b[1;33m\u001b[0m\u001b[0m\n\u001b[0m\u001b[0;32m    230\u001b[0m         )\n\u001b[0;32m    231\u001b[0m \u001b[1;33m\u001b[0m\u001b[0m\n",
      "\u001b[1;32mC:\\Apps-SU\\Anaconda3\\envs\\geoplot_compatible\\lib\\site-packages\\pandas\\io\\common.py\u001b[0m in \u001b[0;36mget_handle\u001b[1;34m(path_or_buf, mode, encoding, compression, memory_map, is_text, errors, storage_options)\u001b[0m\n\u001b[0;32m    705\u001b[0m                 \u001b[0mencoding\u001b[0m\u001b[1;33m=\u001b[0m\u001b[0mioargs\u001b[0m\u001b[1;33m.\u001b[0m\u001b[0mencoding\u001b[0m\u001b[1;33m,\u001b[0m\u001b[1;33m\u001b[0m\u001b[1;33m\u001b[0m\u001b[0m\n\u001b[0;32m    706\u001b[0m                 \u001b[0merrors\u001b[0m\u001b[1;33m=\u001b[0m\u001b[0merrors\u001b[0m\u001b[1;33m,\u001b[0m\u001b[1;33m\u001b[0m\u001b[1;33m\u001b[0m\u001b[0m\n\u001b[1;32m--> 707\u001b[1;33m                 \u001b[0mnewline\u001b[0m\u001b[1;33m=\u001b[0m\u001b[1;34m\"\"\u001b[0m\u001b[1;33m,\u001b[0m\u001b[1;33m\u001b[0m\u001b[1;33m\u001b[0m\u001b[0m\n\u001b[0m\u001b[0;32m    708\u001b[0m             )\n\u001b[0;32m    709\u001b[0m         \u001b[1;32melse\u001b[0m\u001b[1;33m:\u001b[0m\u001b[1;33m\u001b[0m\u001b[1;33m\u001b[0m\u001b[0m\n",
      "\u001b[1;31mFileNotFoundError\u001b[0m: [Errno 2] No such file or directory: 'pipeline_failures_storm.csv'"
     ]
    }
   ],
   "source": [
    "a =pd.read_csv('pipeline_failures_storm.csv', low_memory=False)\n",
    "a.DATE = pd.to_datetime(a.DATE)"
   ]
  },
  {
   "cell_type": "code",
   "execution_count": 5,
   "metadata": {},
   "outputs": [
    {
     "data": {
      "text/plain": [
       "['NOAAHURDAT.csv']"
      ]
     },
     "execution_count": 5,
     "metadata": {},
     "output_type": "execute_result"
    }
   ],
   "source": [
    "os.listdir()"
   ]
  },
  {
   "cell_type": "code",
   "execution_count": 14,
   "metadata": {
    "id": "EoGyNMz-2fMu"
   },
   "outputs": [],
   "source": [
    "a['yr'] = a['DATE'].dt.year"
   ]
  },
  {
   "cell_type": "markdown",
   "metadata": {
    "id": "a0x5JwKzMxN7"
   },
   "source": [
    "The column 'diftime' will have an nan (not a number) value anytime no hurricanes have come within 300 miles of the fail point."
   ]
  },
  {
   "cell_type": "code",
   "execution_count": 15,
   "metadata": {
    "colab": {
     "base_uri": "https://localhost:8080/"
    },
    "id": "dnOgvo350-uk",
    "outputId": "150e9e07-d4ac-4ca6-b5be-8e7e34d3f95b"
   },
   "outputs": [
    {
     "data": {
      "text/plain": [
       "(9742, 45)"
      ]
     },
     "execution_count": 15,
     "metadata": {},
     "output_type": "execute_result"
    }
   ],
   "source": [
    "b = a.dropna(subset=['diftime'])\n",
    "b.shape"
   ]
  },
  {
   "cell_type": "code",
   "execution_count": 16,
   "metadata": {
    "id": "ScOFCzVmmagU"
   },
   "outputs": [],
   "source": [
    "a = None"
   ]
  },
  {
   "cell_type": "code",
   "execution_count": 7,
   "metadata": {},
   "outputs": [
    {
     "data": {
      "text/plain": [
       "['NOAAHURDAT.csv']"
      ]
     },
     "execution_count": 7,
     "metadata": {},
     "output_type": "execute_result"
    }
   ],
   "source": [
    "os.listdir()"
   ]
  },
  {
   "cell_type": "code",
   "execution_count": 9,
   "metadata": {
    "id": "tvTEel_M67sL"
   },
   "outputs": [],
   "source": [
    "#NOAHURDAT Data\n",
    "# Can we pull this directly from an internet url?\n",
    "\n",
    "hur  = pd.read_csv(\"NOAAHURDAT.csv\")\n",
    "hur = hur.sort_values(['date'])\n",
    "hur = hur.sort_values(['start_date'])\n",
    "hur = hur.sort_values(['end_date'])\n",
    "hur['dateTime'] = hur['start_date'].astype(str).str.cat(hur['time'].astype(str),sep=\" \")\n",
    "hur['dateTime'] = pd.to_datetime(hur['dateTime'], format=\"%Y-%m-%d %H:%M:%S\")"
   ]
  },
  {
   "cell_type": "code",
   "execution_count": 10,
   "metadata": {
    "id": "UL3VexPH89YX"
   },
   "outputs": [],
   "source": [
    "hur.name = hur.name.astype('category')"
   ]
  },
  {
   "cell_type": "markdown",
   "metadata": {
    "id": "yqy7rcowAnjo"
   },
   "source": [
    "#Create merged PHMSA + HURDAT 2 dataset\n",
    "\n",
    "\n"
   ]
  },
  {
   "cell_type": "markdown",
   "metadata": {
    "id": "AcUyo8dGW8uz"
   },
   "source": [
    "Use the \"HurIDX\" column to idenfy hurdat points already affiliated with failures\n"
   ]
  },
  {
   "cell_type": "code",
   "execution_count": 24,
   "metadata": {
    "colab": {
     "base_uri": "https://localhost:8080/"
    },
    "id": "nyv2_1lBUsYT",
    "outputId": "7cc8e302-9d94-4e6a-f07a-a52fe6db45b5"
   },
   "outputs": [
    {
     "data": {
      "text/plain": [
       "485          7\n",
       "580          7\n",
       "730         76\n",
       "748         76\n",
       "754         76\n",
       "         ...  \n",
       "24957    12101\n",
       "24961    12074\n",
       "24964    12073\n",
       "24965    12101\n",
       "24967    12102\n",
       "Name: HurIdx, Length: 9742, dtype: int64"
      ]
     },
     "execution_count": 24,
     "metadata": {},
     "output_type": "execute_result"
    }
   ],
   "source": [
    "b.HurIdx"
   ]
  },
  {
   "cell_type": "code",
   "execution_count": 25,
   "metadata": {
    "colab": {
     "base_uri": "https://localhost:8080/"
    },
    "id": "1gNdWAyb7ftU",
    "outputId": "0a4f353c-9f43-49f4-f039-3b843bab51a1"
   },
   "outputs": [
    {
     "data": {
      "text/plain": [
       "(11643, 21)"
      ]
     },
     "execution_count": 25,
     "metadata": {},
     "output_type": "execute_result"
    }
   ],
   "source": [
    "hur = hur[~hur['Unnamed: 0'].isin(b.HurIdx[b.diftime<60].unique())]\n",
    "hur.shape"
   ]
  },
  {
   "cell_type": "code",
   "execution_count": 26,
   "metadata": {
    "id": "mMyFJZF6NbfH"
   },
   "outputs": [],
   "source": [
    "b.category = np.nan"
   ]
  },
  {
   "cell_type": "code",
   "execution_count": 27,
   "metadata": {
    "id": "M0EbPDQl4bo8"
   },
   "outputs": [],
   "source": [
    "test = pd.concat([b, hur], ignore_index=False)\n"
   ]
  },
  {
   "cell_type": "code",
   "execution_count": 29,
   "metadata": {
    "id": "P2iHCQAFmhlc"
   },
   "outputs": [],
   "source": [
    "b = None"
   ]
  },
  {
   "cell_type": "markdown",
   "metadata": {
    "id": "bxJ6S_aiK940"
   },
   "source": [
    "Use the pipeline failure latitude column to identify wherther or not storm is associated with failure"
   ]
  },
  {
   "cell_type": "code",
   "execution_count": 30,
   "metadata": {
    "colab": {
     "base_uri": "https://localhost:8080/"
    },
    "id": "c0LJUWoGNTPE",
    "outputId": "4a46f860-e8ab-46c1-ddea-00dcd669ff9b"
   },
   "outputs": [
    {
     "data": {
      "text/plain": [
       "array([nan, -1.,  0.,  1.,  3.,  2.,  4.,  5.])"
      ]
     },
     "execution_count": 30,
     "metadata": {},
     "output_type": "execute_result"
    }
   ],
   "source": [
    "test.category.unique()"
   ]
  },
  {
   "cell_type": "code",
   "execution_count": 31,
   "metadata": {
    "id": "3y4GpJGt_Qoe"
   },
   "outputs": [],
   "source": [
    "test['failTF'] = np.nan"
   ]
  },
  {
   "cell_type": "code",
   "execution_count": 34,
   "metadata": {},
   "outputs": [
    {
     "data": {
      "text/plain": [
       "Index(['Unnamed: 0', 'PipeIDX', 'Unnamed: 0.1', 'CAUSE', 'DATE',\n",
       "       'INCIDENT_CITY', 'INCIDENT_COUNTY', 'INCIDENT_STATE', 'ZIP_CODE',\n",
       "       'INSTALLATION_YEAR', 'ADDRESS', 'LATITUDE', 'LONGITUDE', 'MANYR',\n",
       "       'TYPE', 'ITMYR', 'year', 'Point', 'PipeIdx', 'name', 'month', 'day',\n",
       "       'hour', 'lat', 'long', 'status', 'category', 'wind', 'pressure',\n",
       "       'tropicalstorm_force_diameter', 'hurricane_force_diameter', 'DATETIME1',\n",
       "       'date', 'start_date', 'time', 'pointh', 'end_date', 'dateTime',\n",
       "       'HurIdx', 'diftime', 'distance', 'frequency', 'max_int', 'fourplus',\n",
       "       'yr', 'failTF'],\n",
       "      dtype='object')"
      ]
     },
     "execution_count": 34,
     "metadata": {},
     "output_type": "execute_result"
    }
   ],
   "source": [
    "test.columns"
   ]
  },
  {
   "cell_type": "code",
   "execution_count": 36,
   "metadata": {
    "id": "NDErbF23-WtE"
   },
   "outputs": [
    {
     "name": "stderr",
     "output_type": "stream",
     "text": [
      "C:\\Apps-SU\\Anaconda3\\envs\\geoplot_compatible\\lib\\site-packages\\pandas\\core\\indexing.py:1732: SettingWithCopyWarning: \n",
      "A value is trying to be set on a copy of a slice from a DataFrame\n",
      "\n",
      "See the caveats in the documentation: https://pandas.pydata.org/pandas-docs/stable/user_guide/indexing.html#returning-a-view-versus-a-copy\n",
      "  self._setitem_single_block(indexer, value, name)\n"
     ]
    }
   ],
   "source": [
    "test['failTF'].iloc[np.isnan(test.LATITUDE)] = 0\n",
    "test['failTF'].iloc[~np.isnan(test.LATITUDE)] = 1"
   ]
  },
  {
   "cell_type": "markdown",
   "metadata": {
    "id": "aHh4i-Q2XPAh"
   },
   "source": [
    "Assign the hurricane failure year to entries with no failure (and therefore no failure year)"
   ]
  },
  {
   "cell_type": "code",
   "execution_count": 38,
   "metadata": {
    "id": "4ESaDTRMCRGd"
   },
   "outputs": [],
   "source": [
    "test.yr.iloc[np.isnan(test.yr)] = test['year'][np.isnan(test.yr)]"
   ]
  },
  {
   "cell_type": "code",
   "execution_count": 63,
   "metadata": {
    "id": "ov_OFWKPrery"
   },
   "outputs": [
    {
     "name": "stderr",
     "output_type": "stream",
     "text": [
      "C:\\Apps-SU\\Anaconda3\\envs\\geoplot_compatible\\lib\\site-packages\\pandas\\core\\indexing.py:1732: SettingWithCopyWarning: \n",
      "A value is trying to be set on a copy of a slice from a DataFrame\n",
      "\n",
      "See the caveats in the documentation: https://pandas.pydata.org/pandas-docs/stable/user_guide/indexing.html#returning-a-view-versus-a-copy\n",
      "  self._setitem_single_block(indexer, value, name)\n"
     ]
    }
   ],
   "source": [
    "test['DATE'] = pd.to_datetime(test['DATE'])#, errors='coerce')\n",
    "test.month = test['DATE'].dt.month\n",
    "test.name.loc[(test.name==\"0\") & (test.month.isin([1,2,3,4,5,6]))]=\"NoStorm\""
   ]
  },
  {
   "cell_type": "code",
   "execution_count": 43,
   "metadata": {
    "colab": {
     "base_uri": "https://localhost:8080/"
    },
    "id": "yAZ8Z1vlCTvs",
    "outputId": "32b70f4c-9071-4bc0-fb0a-7d1fcfb7d854"
   },
   "outputs": [
    {
     "data": {
      "text/plain": [
       "983710"
      ]
     },
     "execution_count": 43,
     "metadata": {},
     "output_type": "execute_result"
    }
   ],
   "source": [
    "test.size"
   ]
  },
  {
   "cell_type": "code",
   "execution_count": 44,
   "metadata": {
    "id": "SJ4KRHLVLBb-"
   },
   "outputs": [],
   "source": [
    "#remove all rows with \"0\" values in the \"name\" column\n",
    "test = test[test.name != \"0\"]"
   ]
  },
  {
   "cell_type": "code",
   "execution_count": 45,
   "metadata": {
    "colab": {
     "base_uri": "https://localhost:8080/"
    },
    "id": "3Jmveuf1VTTM",
    "outputId": "56718501-796c-4211-b921-6770fb72fc15"
   },
   "outputs": [
    {
     "data": {
      "text/plain": [
       "832784"
      ]
     },
     "execution_count": 45,
     "metadata": {},
     "output_type": "execute_result"
    }
   ],
   "source": [
    "test.size"
   ]
  },
  {
   "cell_type": "code",
   "execution_count": 47,
   "metadata": {
    "id": "DLZ6iCa_Jd8V"
   },
   "outputs": [],
   "source": [
    "test['yr'] = test['yr'].astype('str')\n",
    "test['name'] = test['name'].astype('str')\n",
    "test['name'] = test['name'] + test['yr']\n",
    "test['name'] = test.name.str.split('.').str[0]"
   ]
  },
  {
   "cell_type": "code",
   "execution_count": 48,
   "metadata": {
    "id": "goWR7LJBJwTI"
   },
   "outputs": [],
   "source": [
    "test['yr'] = test['yr'].astype('category')\n",
    "test['name'] = test['name'].astype('category')"
   ]
  },
  {
   "cell_type": "code",
   "execution_count": 49,
   "metadata": {
    "colab": {
     "base_uri": "https://localhost:8080/"
    },
    "id": "jQAMIwavc_Kt",
    "outputId": "f57f5afd-acb9-48c8-d185-12c37850b601"
   },
   "outputs": [
    {
     "data": {
      "text/plain": [
       "array(['AL01199319931993', 'AL01200020002000', 'AL02199219921992',\n",
       "       'AL02199419941994', 'AL02199919991999', 'AL02200020002000',\n",
       "       'AL02200120012001', 'AL02200320032003', 'AL02200620062006',\n",
       "       'AL03198719871987', 'AL03199219921992', 'AL04199119911991',\n",
       "       'AL04200020002000', 'AL05199419941994', 'AL06198819881988',\n",
       "       'AL06199519951995', 'AL06199719971997', 'AL06200320032003',\n",
       "       'AL07199919991999', 'AL07200220022002', 'AL07200320032003',\n",
       "       'AL08199219921992', 'AL08199419941994', 'AL09199419941994',\n",
       "       'AL09200020002000', 'AL09200120012001', 'AL09200320032003',\n",
       "       'AL10199119911991', 'AL10199319931993', 'AL10199419941994',\n",
       "       'AL10200420042004', 'AL11199919991999', 'AL12199119911991',\n",
       "       'AL12199919991999', 'AL14199519951995', 'AL14200220022002',\n",
       "       'AL14200320032003', 'Al20201120112011', 'Alberto19821982',\n",
       "       'Alberto19881988', 'Alberto19941994', 'Alberto20002000',\n",
       "       'Alberto20062006', 'Alberto20122012', 'Alberto20182018',\n",
       "       'Alex19981998', 'Alex20042004', 'Alex20102010', 'Alex20162016',\n",
       "       'Alicia19831983', 'Allison19891989', 'Allison19951995',\n",
       "       'Allison20012001', 'Amelia19781978', 'Amy19751975', 'Ana19791979',\n",
       "       'Ana19851985', 'Ana19911991', 'Ana19971997', 'Ana20032003',\n",
       "       'Ana20092009', 'Ana20152015', 'Ana20212021', 'Andrea20132013',\n",
       "       'Andrew19861986', 'Andrew19921992', 'Anita19771977',\n",
       "       'Arthur19841984', 'Arthur19901990', 'Arthur19961996',\n",
       "       'Arthur20022002', 'Arthur20082008', 'Arthur20142014',\n",
       "       'Arthur20202020', 'Barry19831983', 'Barry19891989',\n",
       "       'Barry19951995', 'Barry20012001', 'Barry20072007', 'Barry20132013',\n",
       "       'Barry20192019', 'Belle19761976', 'Beryl19821982', 'Beryl19881988',\n",
       "       'Beryl19941994', 'Beryl20002000', 'Beryl20062006', 'Beryl20122012',\n",
       "       'Beryl20182018', 'Bess19781978', 'Beta20052005', 'Beta20202020',\n",
       "       'Bill19971997', 'Bill20032003', 'Bill20092009', 'Bill20152015',\n",
       "       'Bill20212021', 'Bob19791979', 'Bob19851985', 'Bob19911991',\n",
       "       'Bonnie19801980', 'Bonnie19861986', 'Bonnie19921992',\n",
       "       'Bonnie19981998', 'Bonnie20042004', 'Bonnie20102010',\n",
       "       'Bonnie20162016', 'Caroline19751975', 'Cesar19841984',\n",
       "       'Cesar19901990', 'Cesar19961996', 'Chantal19831983',\n",
       "       'Chantal19891989', 'Chantal19951995', 'Chantal20012001',\n",
       "       'Chantal20072007', 'Chantal20132013', 'Chantal20192019',\n",
       "       'Charley19801980', 'Charley19861986', 'Charley19921992',\n",
       "       'Charley19981998', 'Charley20042004', 'Chris19821982',\n",
       "       'Chris19881988', 'Chris19941994', 'Chris20002000', 'Chris20062006',\n",
       "       'Chris20122012', 'Chris20182018', 'Clara19771977',\n",
       "       'Claudette19791979', 'Claudette19851985', 'Claudette19911991',\n",
       "       'Claudette19971997', 'Claudette20032003', 'Claudette20092009',\n",
       "       'Claudette20152015', 'Claudette20212021', 'Colin20102010',\n",
       "       'Colin20162016', 'Cora19781978', 'Cristobal20022002',\n",
       "       'Cristobal20082008', 'Cristobal20142014', 'Cristobal20202020',\n",
       "       'Danielle19801980', 'Danielle19861986', 'Danielle19921992',\n",
       "       'Danielle19981998', 'Danielle20042004', 'Danielle20102010',\n",
       "       'Danielle20162016', 'Danny19851985', 'Danny19911991',\n",
       "       'Danny19971997', 'Danny20032003', 'Danny20092009', 'Danny20152015',\n",
       "       'Danny20212021', 'David19791979', 'Dean19831983', 'Dean19891989',\n",
       "       'Dean19951995', 'Dean20012001', 'Dean20072007', 'Debby19821982',\n",
       "       'Debby19881988', 'Debby19941994', 'Debby20002000', 'Debby20062006',\n",
       "       'Debby20122012', 'Debby20182018', 'Diana19841984', 'Diana19901990',\n",
       "       'Don20112011', 'Don20172017', 'Dorian20132013', 'Dorian20192019',\n",
       "       'Doris19751975', 'Edouard19841984', 'Edouard19901990',\n",
       "       'Edouard19961996', 'Edouard20022002', 'Edouard20082008',\n",
       "       'Edouard20142014', 'Edouard20202020', 'Eight20092009',\n",
       "       'Eight20132013', 'Eight20162016', 'Eleven20182018', 'Elsa20212021',\n",
       "       'Emily19811981', 'Emily19871987', 'Emily19931993', 'Emily19991999',\n",
       "       'Emily20052005', 'Emily20112011', 'Emily20172017',\n",
       "       'Epsilon20052005', 'Epsilon20202020', 'Erika19911991',\n",
       "       'Erika19971997', 'Erika20032003', 'Erika20092009', 'Erika20152015',\n",
       "       'Erin19891989', 'Erin19951995', 'Erin20012001', 'Erin20072007',\n",
       "       'Erin20132013', 'Erin20192019', 'Ernesto19821982',\n",
       "       'Ernesto19881988', 'Ernesto19941994', 'Ernesto20002000',\n",
       "       'Ernesto20062006', 'Ernesto20122012', 'Ernesto20182018',\n",
       "       'Eta20202020', 'Eta20212021', 'Evelyn19771977', 'Fabian19851985',\n",
       "       'Fabian19911991', 'Fabian19971997', 'Fabian20032003',\n",
       "       'Fay20022002', 'Fay20082008', 'Fay20142014', 'Fay20202020',\n",
       "       'Felix19891989', 'Felix19951995', 'Felix20012001', 'Felix20072007',\n",
       "       'Fernand20132013', 'Fernand20192019', 'Fifteen20072007',\n",
       "       'Fifteen20192019', 'Fiona20102010', 'Fiona20162016',\n",
       "       'Five20102010', 'Floyd19811981', 'Floyd19871987', 'Floyd19931993',\n",
       "       'Floyd19991999', 'Four20172017', 'Franklin20052005',\n",
       "       'Franklin20112011', 'Franklin20172017', 'Fred20092009',\n",
       "       'Fred20152015', 'Fred20212021', 'Frederic19791979',\n",
       "       'Gabrielle19891989', 'Gabrielle19951995', 'Gabrielle20012001',\n",
       "       'Gabrielle20072007', 'Gabrielle20132013', 'Gabrielle20192019',\n",
       "       'Gamma20052005', 'Gamma20202020', 'Gaston20042004',\n",
       "       'Gaston20102010', 'Gaston20162016', 'Georges19801980',\n",
       "       'Georges19981998', 'Gert19811981', 'Gert19931993', 'Gert19991999',\n",
       "       'Gert20052005', 'Gert20112011', 'Gert20172017', 'Gilbert19881988',\n",
       "       'Gloria19761976', 'Gloria19791979', 'Gloria19851985',\n",
       "       'Gonzalo20142014', 'Gonzalo20202020', 'Gordon19941994',\n",
       "       'Gordon20002000', 'Gordon20062006', 'Gordon20122012',\n",
       "       'Gordon20182018', 'Gustav19841984', 'Gustav19901990',\n",
       "       'Gustav19961996', 'Gustav20022002', 'Gustav20082008',\n",
       "       'Hanna20022002', 'Hanna20082008', 'Hanna20142014', 'Hanna20202020',\n",
       "       'Harvey19811981', 'Harvey19931993', 'Harvey19991999',\n",
       "       'Harvey20052005', 'Harvey20112011', 'Harvey20172017',\n",
       "       'Henri19791979', 'Henri19851985', 'Henri20032003', 'Henri20092009',\n",
       "       'Henri20152015', 'Henri20212021', 'Hermine19801980',\n",
       "       'Hermine19981998', 'Hermine20042004', 'Hermine20102010',\n",
       "       'Hermine20162016', 'Hortense19841984', 'Hortense19901990',\n",
       "       'Hortense19961996', 'Hugo19891989', 'Humberto19951995',\n",
       "       'Humberto20012001', 'Humberto20072007', 'Humberto20132013',\n",
       "       'Humberto20192019', 'Ian20162016', 'Ida20092009', 'Ida20102010',\n",
       "       'Ida20152015', 'Ida20212021', 'Igor20102010', 'Ike20082008',\n",
       "       'Imelda20192019', 'Ingrid20072007', 'Ingrid20132013',\n",
       "       'Iota20202020', 'Iris19891989', 'Iris19951995', 'Iris20012001',\n",
       "       'Isaac19881988', 'Isaac20002000', 'Isaac20062006', 'Isaac20122012',\n",
       "       'Isaac20182018', 'Isabel19851985', 'Isabel20032003',\n",
       "       'Isaias20202020', 'Isidore19841984', 'Isidore19901990',\n",
       "       'Isidore19961996', 'Isidore20022002', 'Ivan19801980',\n",
       "       'Ivan19981998', 'Ivan20042004', 'Jeanne19801980', 'Jeanne19981998',\n",
       "       'Jeanne20042004', 'Jerry19891989', 'Jerry19951995',\n",
       "       'Jerry20012001', 'Jerry20072007', 'Jerry20132013', 'Jerry20192019',\n",
       "       'Joan19881988', 'Joaquin20152015', 'Josephine19841984',\n",
       "       'Josephine19901990', 'Josephine19961996', 'Josephine20022002',\n",
       "       'Josephine20082008', 'Josephine20202020', 'Joyce20002000',\n",
       "       'Joyce20122012', 'Joyce20182018', 'Juan19851985', 'Juan20032003',\n",
       "       'Julia20102010', 'Julia20162016', 'Julian20212021',\n",
       "       'Juliet19781978', 'Karen19891989', 'Karen19951995',\n",
       "       'Karen20012001', 'Karen20072007', 'Karen20132013', 'Karen20192019',\n",
       "       'Karl19801980', 'Karl19981998', 'Karl20042004', 'Karl20102010',\n",
       "       'Karl20162016', 'Kate19851985', 'Kate20032003', 'Kate20152015',\n",
       "       'Kate20212021', 'Katia20112011', 'Katia20172017',\n",
       "       'Katrina19811981', 'Katrina19991999', 'Katrina20052005',\n",
       "       'Keith19881988', 'Keith20002000', 'Kirk20122012', 'Kirk20182018',\n",
       "       'Klaus19841984', 'Klaus19901990', 'Kyle19961996', 'Kyle20022002',\n",
       "       'Kyle20082008', 'Kyle20202020', 'Larry20032003', 'Larry20212021',\n",
       "       'Lee20052005', 'Lee20112011', 'Lee20172017', 'Lenny19991999',\n",
       "       'Leslie20002000', 'Leslie20122012', 'Leslie20182018',\n",
       "       'Lili19841984', 'Lili19901990', 'Lili19961996', 'Lili20022002',\n",
       "       'Lisa19981998', 'Lisa20042004', 'Lisa20102010', 'Lisa20162016',\n",
       "       'Lorenzo20012001', 'Lorenzo20072007', 'Lorenzo20132013',\n",
       "       'Lorenzo20192019', 'Luis19951995', 'Marco19901990',\n",
       "       'Marco19961996', 'Marco20082008', 'Marco20202020', 'Maria20052005',\n",
       "       'Maria20112011', 'Maria20172017', 'Marilyn19951995',\n",
       "       'Matthew20042004', 'Matthew20102010', 'Matthew20162016',\n",
       "       'Melissa20072007', 'Melissa20132013', 'Melissa20192019',\n",
       "       'Michael20002000', 'Michael20122012', 'Michael20182018',\n",
       "       'Michelle20012001', 'Mindy20032003', 'Mindy20212021',\n",
       "       'Mitch19981998', 'Nadine20002000', 'Nadine20122012',\n",
       "       'Nadine20182018', 'Nana19901990', 'Nana20082008', 'Nana20202020',\n",
       "       'Nate20052005', 'Nate20112011', 'Nate20172017', 'Nestor20192019',\n",
       "       'Nicholas20032003', 'Nicholas20212021', 'Nicole19981998',\n",
       "       'Nicole20102010', 'Nicole20162016', 'Nine20152015',\n",
       "       'Nineteen20052005', 'NoStorm19761976', 'NoStorm19771977',\n",
       "       'NoStorm19781978', 'NoStorm19791979', 'NoStorm19801980',\n",
       "       'NoStorm19811981', 'NoStorm19821982', 'NoStorm19831983',\n",
       "       'NoStorm19841984', 'NoStorm19851985', 'NoStorm19861986',\n",
       "       'NoStorm19871987', 'NoStorm19881988', 'NoStorm19891989',\n",
       "       'NoStorm19901990', 'NoStorm19911991', 'NoStorm19921992',\n",
       "       'NoStorm19931993', 'NoStorm19941994', 'NoStorm19951995',\n",
       "       'NoStorm19961996', 'NoStorm19971997', 'NoStorm19981998',\n",
       "       'NoStorm19991999', 'NoStorm20002000', 'NoStorm20012001',\n",
       "       'NoStorm20022002', 'NoStorm20032003', 'NoStorm20042004',\n",
       "       'NoStorm20052005', 'NoStorm20062006', 'NoStorm20072007',\n",
       "       'NoStorm20082008', 'NoStorm20092009', 'NoStorm20102010',\n",
       "       'NoStorm20112011', 'NoStorm20122012', 'NoStorm20132013',\n",
       "       'NoStorm20142014', 'NoStorm20152015', 'NoStorm20162016',\n",
       "       'NoStorm20172017', 'NoStorm20182018', 'NoStorm20192019',\n",
       "       'NoStorm20202020', 'NoStorm20212021', 'NoStorm20222022',\n",
       "       'Noel19951995', 'Noel20012001', 'Noel20072007', 'Odette20032003',\n",
       "       'Odette20212021', 'Olga20012001', 'Olga20072007', 'Olga20192019',\n",
       "       'Omar20082008', 'Omar20202020', 'One20092009', 'Opal19951995',\n",
       "       'Ophelia20052005', 'Ophelia20112011', 'Ophelia20172017',\n",
       "       'Oscar20122012', 'Oscar20182018', 'Otto20042004', 'Otto20102010',\n",
       "       'Otto20162016', 'Pablo19951995', 'Pablo20192019', 'Paloma20082008',\n",
       "       'Patty20122012', 'Paula20102010', 'Paulette20202020',\n",
       "       'Peter20032003', 'Peter20212021', 'Philippe20052005',\n",
       "       'Philippe20112011', 'Philippe20172017', 'Rafael20122012',\n",
       "       'Rene20202020', 'Richard20102010', 'Rina20112011', 'Rina20172017',\n",
       "       'Rita20052005', 'Rose20212021', 'Roxanne19951995', 'Sally20202020',\n",
       "       'Sam20212021', 'Sandy20122012', 'Sean20112011',\n",
       "       'Sebastien19951995', 'Sebastien20192019', 'Shary20102010',\n",
       "       'Sixteen20082008', 'Stan20052005', 'Tammy20052005',\n",
       "       'Tanya19951995', 'Teddy20202020', 'Ten20052005', 'Ten20072007',\n",
       "       'Ten20112011', 'Theta20202020', 'Three20192019', 'Tomas20102010',\n",
       "       'Tony20122012', 'Two20102010', 'Two20142014', 'Vicky20202020',\n",
       "       'Victor20212021', 'Vince20052005', 'Wanda20212021',\n",
       "       'Wilfred20202020', 'Wilma20052005', 'Zeta20052005', 'Zeta20062006',\n",
       "       'Zeta20202020'], dtype=object)"
      ]
     },
     "execution_count": 49,
     "metadata": {},
     "output_type": "execute_result"
    }
   ],
   "source": [
    "np.unique(test.name)"
   ]
  },
  {
   "cell_type": "code",
   "execution_count": 50,
   "metadata": {
    "id": "P0I3o42R-eWH"
   },
   "outputs": [],
   "source": [
    "test['ptlat']=np.nan\n",
    "test['ptlong']=np.nan"
   ]
  },
  {
   "cell_type": "code",
   "execution_count": 51,
   "metadata": {
    "id": "muKHomeYZ1ZJ"
   },
   "outputs": [],
   "source": [
    "hurf = hur\n",
    "hurf['year'] = hurf['year'].astype('str')\n",
    "hurf['name'] = hurf['name'].astype('str')\n",
    "\n",
    "hurf['name'] = hurf['name'] + hurf['year']"
   ]
  },
  {
   "cell_type": "code",
   "execution_count": 52,
   "metadata": {
    "id": "h-TowOWoIZ2y"
   },
   "outputs": [],
   "source": [
    "minlat = hurf[['lat','name']].groupby(by = \"name\").min()\n",
    "minlat = minlat.rename(columns={\"lat\": \"minlat\"})\n",
    "\n",
    "minlon = hurf[['long','name']].groupby(by = \"name\").min()\n",
    "minlon = minlon.rename(columns={\"long\": \"minlong\"})"
   ]
  },
  {
   "cell_type": "code",
   "execution_count": 53,
   "metadata": {
    "id": "_y7XcJsLmdaT"
   },
   "outputs": [],
   "source": [
    "hurf = None\n",
    "hur = None"
   ]
  },
  {
   "cell_type": "code",
   "execution_count": 54,
   "metadata": {
    "id": "dNFjw7VbKN7e"
   },
   "outputs": [],
   "source": [
    "test = pd.merge(test, minlon, left_on='name', right_on = \"name\", how=\"left\" )\n",
    "test = pd.merge(test, minlat, left_on='name', right_on = \"name\", how=\"left\" )"
   ]
  },
  {
   "cell_type": "code",
   "execution_count": 55,
   "metadata": {
    "colab": {
     "base_uri": "https://localhost:8080/"
    },
    "id": "VNKJ4D6ERp_g",
    "outputId": "e92ec82a-3950-4e9c-fc1b-50025ef9f531"
   },
   "outputs": [
    {
     "data": {
      "text/plain": [
       "Index(['Unnamed: 0', 'PipeIDX', 'Unnamed: 0.1', 'CAUSE', 'DATE',\n",
       "       'INCIDENT_CITY', 'INCIDENT_COUNTY', 'INCIDENT_STATE', 'ZIP_CODE',\n",
       "       'INSTALLATION_YEAR', 'ADDRESS', 'LATITUDE', 'LONGITUDE', 'MANYR',\n",
       "       'TYPE', 'ITMYR', 'year', 'Point', 'PipeIdx', 'name', 'month', 'day',\n",
       "       'hour', 'lat', 'long', 'status', 'category', 'wind', 'pressure',\n",
       "       'tropicalstorm_force_diameter', 'hurricane_force_diameter', 'DATETIME1',\n",
       "       'date', 'start_date', 'time', 'pointh', 'end_date', 'dateTime',\n",
       "       'HurIdx', 'diftime', 'distance', 'frequency', 'max_int', 'fourplus',\n",
       "       'yr', 'failTF', 'ptlat', 'ptlong', 'minlong', 'minlat'],\n",
       "      dtype='object')"
      ]
     },
     "execution_count": 55,
     "metadata": {},
     "output_type": "execute_result"
    }
   ],
   "source": [
    "test.columns"
   ]
  },
  {
   "cell_type": "code",
   "execution_count": 66,
   "metadata": {
    "colab": {
     "base_uri": "https://localhost:8080/"
    },
    "id": "7c5xWWnNJ4cG",
    "outputId": "5d346a20-3419-41e6-c2b3-aa9fa076a586"
   },
   "outputs": [],
   "source": [
    "test.wind.iloc[test.wind==0]=12\n",
    "test.pressure.iloc[test.pressure==0]=1050\n",
    "test.minlat.iloc[test.minlat.isnull()]=float(minlat.max())\n",
    "test.minlong.iloc[test.minlong.isnull()]=float(minlon.min())"
   ]
  },
  {
   "cell_type": "code",
   "execution_count": 61,
   "metadata": {
    "colab": {
     "base_uri": "https://localhost:8080/"
    },
    "id": "ia6i7TbHf3qs",
    "outputId": "71e9baad-6adb-4ab9-b407-6e122a431e20"
   },
   "outputs": [
    {
     "data": {
      "text/plain": [
       "0        False\n",
       "1        False\n",
       "2        False\n",
       "3        False\n",
       "4        False\n",
       "         ...  \n",
       "18099    False\n",
       "18100    False\n",
       "18101    False\n",
       "18102    False\n",
       "18103    False\n",
       "Name: minlong, Length: 18104, dtype: bool"
      ]
     },
     "execution_count": 61,
     "metadata": {},
     "output_type": "execute_result"
    }
   ],
   "source": [
    "test.minlong.isnull()"
   ]
  },
  {
   "cell_type": "code",
   "execution_count": 71,
   "metadata": {
    "colab": {
     "base_uri": "https://localhost:8080/"
    },
    "id": "PafsVxhpbuMO",
    "outputId": "f51936d7-1845-4ac3-fde3-dd423f785eaa"
   },
   "outputs": [],
   "source": [
    "test.CAUSE = test.CAUSE.astype(str)\n",
    "test.CAUSE.iloc[test.CAUSE == 'DAMAGE BY OUTSIDE FORCES']='outside'\n",
    "test.CAUSE.iloc[test.CAUSE == 'CONSTRUCTION DEFECT/MATERIAL FAILURE']='outside'\n",
    "test.CAUSE.iloc[test.CAUSE == 'CORROSION']='outside'\n",
    "test.CAUSE.iloc[test.CAUSE == 'OTHER']='outside'\n",
    "test.CAUSE.iloc[test.CAUSE == 'CONSTRUCTION/OPERATING ERROR']='human'\n",
    "test.CAUSE.iloc[test.CAUSE == 'DAMAGE BY OUTSIDE FORCE']='outside'\n",
    "test.CAUSE.iloc[test.CAUSE == 'CONSTRUCTION/MATERIAL DEFECT']='outside'\n",
    "test.CAUSE.iloc[test.CAUSE == 'ACCIDENTALLY CAUSED BY OPERATOR']='outside'\n",
    "test.CAUSE.iloc[test.CAUSE =='OUTSIDE FORCE DAMAGE']='outside'\n",
    "test.CAUSE.iloc[test.CAUSE =='FAILED PIPE']= 'outside'\n",
    "test.CAUSE.iloc[test.CAUSE =='FAILED WELD']='outside',\n",
    "test.CAUSE.iloc[test.CAUSE == 'MALFUNCTION OF CONTROL OR RELIEF EQUIPMENT']= 'outside'\n",
    "test.CAUSE.iloc[test.CAUSE =='INCORRECT OPERATION BY OPERATOR PERSONNEL']= 'human'\n",
    "test.CAUSE.iloc[test.CAUSE =='EXCAVATION DAMAGE']='human'\n",
    "test.CAUSE.iloc[test.CAUSE =='OTHER OUTSIDE FORCE DAMAGE']='outside'\n",
    "test.CAUSE.iloc[test.CAUSE =='INCORRECT OPERATION']= 'human'\n",
    "test.CAUSE.iloc[test.CAUSE =='MATERIAL AND/OR WELD FAILURES']='outside'\n",
    "test.CAUSE.iloc[test.CAUSE == 'EQUIPMENT']='outside'\n",
    "test.CAUSE.iloc[test.CAUSE =='NATURAL FORCES']='natural'\n",
    "test.CAUSE.iloc[test.CAUSE =='EQUIPMENT FAILURE']='outside'\n",
    "test.CAUSE.iloc[test.CAUSE =='CORROSION FAILURE']='outside'\n",
    "test.CAUSE.iloc[test.CAUSE =='MATERIAL FAILURE OF PIPE OR WELD']='outside'\n",
    "test.CAUSE.iloc[test.CAUSE =='NATURAL FORCE DAMAGE']= 'natural'\n",
    "test.CAUSE.iloc[test.CAUSE =='OTHER INCIDENT CAUSE']='outside'"
   ]
  },
  {
   "cell_type": "code",
   "execution_count": 72,
   "metadata": {
    "colab": {
     "base_uri": "https://localhost:8080/"
    },
    "id": "hEzJcv5MFQ4d",
    "outputId": "af8d184a-4e00-47b9-88c4-03c197b8206e"
   },
   "outputs": [
    {
     "data": {
      "text/plain": [
       "['outside', 'human', 'natural', 'nan']\n",
       "Categories (4, object): ['human', 'nan', 'natural', 'outside']"
      ]
     },
     "execution_count": 72,
     "metadata": {},
     "output_type": "execute_result"
    }
   ],
   "source": [
    "test.CAUSE=test.CAUSE.astype('category')\n",
    "test.CAUSE.unique()"
   ]
  },
  {
   "cell_type": "code",
   "execution_count": 73,
   "metadata": {
    "colab": {
     "base_uri": "https://localhost:8080/"
    },
    "id": "ktZ0aI2ui7tU",
    "outputId": "3ac35836-1cba-465c-d06b-3e792e51056a"
   },
   "outputs": [],
   "source": [
    "world = gpd.read_file(gpd.datasets.get_path('naturalearth_lowres'))"
   ]
  },
  {
   "cell_type": "code",
   "execution_count": 74,
   "metadata": {
    "id": "WJMmhAMYpQTZ"
   },
   "outputs": [],
   "source": [
    "N_a= world.loc[world['name'] == 'United States of America']\n",
    "N_a_p= world.loc[world['continent'] == 'North America']"
   ]
  },
  {
   "cell_type": "code",
   "execution_count": 79,
   "metadata": {},
   "outputs": [
    {
     "data": {
      "text/plain": [
       "<Geographic 2D CRS: EPSG:4326>\n",
       "Name: WGS 84\n",
       "Axis Info [ellipsoidal]:\n",
       "- Lat[north]: Geodetic latitude (degree)\n",
       "- Lon[east]: Geodetic longitude (degree)\n",
       "Area of Use:\n",
       "- name: World.\n",
       "- bounds: (-180.0, -90.0, 180.0, 90.0)\n",
       "Datum: World Geodetic System 1984 ensemble\n",
       "- Ellipsoid: WGS 84\n",
       "- Prime Meridian: Greenwich"
      ]
     },
     "execution_count": 79,
     "metadata": {},
     "output_type": "execute_result"
    }
   ],
   "source": [
    "N_a.crs"
   ]
  },
  {
   "cell_type": "code",
   "execution_count": 75,
   "metadata": {
    "id": "ctglIiEGm9HF"
   },
   "outputs": [],
   "source": [
    "world = None"
   ]
  },
  {
   "cell_type": "code",
   "execution_count": 80,
   "metadata": {
    "id": "ex17214apZrI"
   },
   "outputs": [],
   "source": [
    "gdf = gpd.GeoDataFrame(\n",
    "    test, geometry=gpd.points_from_xy(test.ptlong, test.ptlat), crs=\"EPSG:4326\"\n",
    ")"
   ]
  },
  {
   "cell_type": "code",
   "execution_count": 82,
   "metadata": {},
   "outputs": [
    {
     "data": {
      "text/plain": [
       "<Geographic 2D CRS: EPSG:4326>\n",
       "Name: WGS 84\n",
       "Axis Info [ellipsoidal]:\n",
       "- Lat[north]: Geodetic latitude (degree)\n",
       "- Lon[east]: Geodetic longitude (degree)\n",
       "Area of Use:\n",
       "- name: World.\n",
       "- bounds: (-180.0, -90.0, 180.0, 90.0)\n",
       "Datum: World Geodetic System 1984 ensemble\n",
       "- Ellipsoid: WGS 84\n",
       "- Prime Meridian: Greenwich"
      ]
     },
     "execution_count": 82,
     "metadata": {},
     "output_type": "execute_result"
    }
   ],
   "source": [
    "gdf.crs"
   ]
  },
  {
   "cell_type": "code",
   "execution_count": 81,
   "metadata": {
    "id": "_0fOEDYqK9fT"
   },
   "outputs": [
    {
     "name": "stderr",
     "output_type": "stream",
     "text": [
      "C:\\Apps-SU\\Anaconda3\\envs\\geoplot_compatible\\lib\\site-packages\\ipykernel_launcher.py:2: UserWarning: Geometry is in a geographic CRS. Results from 'buffer' are likely incorrect. Use 'GeoSeries.to_crs()' to re-project geometries to a projected CRS before this operation.\n",
      "\n",
      "  \n",
      "C:\\Apps-SU\\Anaconda3\\envs\\geoplot_compatible\\lib\\site-packages\\geopandas\\array.py:918: RuntimeWarning: All-NaN slice encountered\n",
      "  np.nanmin(b[:, 0]),  # minx\n",
      "C:\\Apps-SU\\Anaconda3\\envs\\geoplot_compatible\\lib\\site-packages\\geopandas\\array.py:919: RuntimeWarning: All-NaN slice encountered\n",
      "  np.nanmin(b[:, 1]),  # miny\n",
      "C:\\Apps-SU\\Anaconda3\\envs\\geoplot_compatible\\lib\\site-packages\\geopandas\\array.py:920: RuntimeWarning: All-NaN slice encountered\n",
      "  np.nanmax(b[:, 2]),  # maxx\n",
      "C:\\Apps-SU\\Anaconda3\\envs\\geoplot_compatible\\lib\\site-packages\\geopandas\\array.py:921: RuntimeWarning: All-NaN slice encountered\n",
      "  np.nanmax(b[:, 3]),  # maxy\n"
     ]
    },
    {
     "data": {
      "text/plain": [
       "(0, 51)"
      ]
     },
     "execution_count": 81,
     "metadata": {},
     "output_type": "execute_result"
    }
   ],
   "source": [
    "#N_a = N_a.to_crs()\n",
    "gdfclip = gpd.clip(gdf, N_a.buffer(0.35))\n",
    "gdfclip.shape"
   ]
  },
  {
   "cell_type": "code",
   "execution_count": null,
   "metadata": {
    "colab": {
     "base_uri": "https://localhost:8080/"
    },
    "id": "O1Zo2268Lz1A",
    "outputId": "ee478558-a60a-40f5-9150-f0de75577ff1"
   },
   "outputs": [],
   "source": [
    "sum(test.failTF)"
   ]
  },
  {
   "cell_type": "code",
   "execution_count": null,
   "metadata": {
    "colab": {
     "base_uri": "https://localhost:8080/"
    },
    "id": "YXg309NYLlzv",
    "outputId": "799bbd1f-5b98-408e-f7f5-fd6bc354027b"
   },
   "outputs": [],
   "source": [
    "gdfclip[gdfclip.failTF==1].shape"
   ]
  },
  {
   "cell_type": "code",
   "execution_count": null,
   "metadata": {
    "colab": {
     "base_uri": "https://localhost:8080/"
    },
    "id": "gKeyFDPgSMmN",
    "outputId": "da32b998-2ef4-4c65-f3df-169b3835c3dc"
   },
   "outputs": [],
   "source": [
    "gdfclip.columns"
   ]
  },
  {
   "cell_type": "code",
   "execution_count": null,
   "metadata": {
    "colab": {
     "base_uri": "https://localhost:8080/",
     "height": 513
    },
    "id": "2pRhCxslLdqk",
    "outputId": "bba781ef-11c7-4acd-d8f5-708a248a7907"
   },
   "outputs": [],
   "source": [
    "f, ax1 = plt.subplots(figsize=(10, 6))\n",
    "N_a_p.plot(ax=ax1,facecolor=\"none\", edgecolor='black',)\n",
    "gdfclip.plot(ax=ax1,\n",
    "            column=gdfclip.failTF, cmap='Paired',\n",
    "            markersize=20, legend= True\n",
    "           )\n",
    "\n",
    "#overlap.plot(ax=ax1, color='black',\n",
    "#                markersize=50\n",
    "#                )\n",
    "\n",
    "ax1.set(title=\"Pipeline Failures by cause\")\n",
    "plt.show()"
   ]
  },
  {
   "cell_type": "code",
   "execution_count": null,
   "metadata": {
    "id": "NA0Xmr1p1OD8"
   },
   "outputs": [],
   "source": [
    "np.random.seed(0)\n",
    "kmeans = KMeans(n_clusters=6, random_state=0, n_init=\"auto\").fit(gdfclip[['ptlat', 'ptlong']])\n",
    "gdfclip['locGrp']=kmeans.predict(gdfclip[['ptlat', 'ptlong']])\n",
    "gdfclip.locGrp=gdfclip.locGrp.astype('category')"
   ]
  },
  {
   "cell_type": "code",
   "execution_count": null,
   "metadata": {
    "colab": {
     "base_uri": "https://localhost:8080/",
     "height": 545
    },
    "id": "sbD0gBSU2P29",
    "outputId": "1cd08cdf-6564-4a08-9058-9f17cba7e9fd"
   },
   "outputs": [],
   "source": [
    "# Format and plot your results from task 2\n",
    "# Format and plot your results from task 2\n",
    "f, ax1 = plt.subplots(figsize=(10, 6))\n",
    "N_a_p.plot(ax=ax1,facecolor=\"none\", edgecolor='black',)\n",
    "gdfclip.plot(ax=ax1,\n",
    "            column=gdfclip.locGrp,cmap=\"tab10\",\n",
    "            markersize=10, legend= True\n",
    "           )\n",
    "\n",
    "N_a.plot(ax=ax1,facecolor=\"none\", edgecolor='black',)\n",
    "\n",
    "ax1.set(title=\"Pipeline Failures location groups\")\n",
    "plt.show()\n"
   ]
  },
  {
   "cell_type": "markdown",
   "metadata": {
    "id": "lvQxmYU3WY47"
   },
   "source": [
    "## Save binomial fail Y/N merge"
   ]
  },
  {
   "cell_type": "code",
   "execution_count": null,
   "metadata": {
    "id": "VOleEETLYOUR"
   },
   "outputs": [],
   "source": [
    "binom = gdfclip[[\"PipeIDX\", \"CAUSE\", \"LATITUDE\", \"LONGITUDE\", \"yr\", 'lat', 'long', 'status', 'category', 'wind', 'pressure',\n",
    "       'tropicalstorm_force_diameter', 'hurricane_force_diameter','HurIdx', 'diftime', 'distance', 'frequency', 'max_int', 'fourplus',\n",
    "       'yr', 'failTF', 'locGrp', 'ptlong', 'ptlat', 'minlong','minlat']]"
   ]
  },
  {
   "cell_type": "code",
   "execution_count": null,
   "metadata": {
    "id": "wNfXCbcEYHhQ"
   },
   "outputs": [],
   "source": [
    "binom.to_csv(\"analysis_ready_binomial.csv\")"
   ]
  },
  {
   "cell_type": "code",
   "execution_count": null,
   "metadata": {
    "id": "-oaO4j9DnDaJ"
   },
   "outputs": [],
   "source": [
    "binom = None"
   ]
  },
  {
   "cell_type": "code",
   "execution_count": null,
   "metadata": {
    "id": "Ijrbb8TpnI0E"
   },
   "outputs": [],
   "source": [
    "test = None"
   ]
  },
  {
   "cell_type": "markdown",
   "metadata": {
    "id": "CD99BUB92tp8"
   },
   "source": [
    "##Part 2: Frequency data\n",
    "\n",
    "Frequency counts for mixed effects model:\n"
   ]
  },
  {
   "cell_type": "code",
   "execution_count": null,
   "metadata": {
    "id": "3rCy6wIA2smc"
   },
   "outputs": [],
   "source": [
    "#Collapse dataframe\n",
    "ard = gdfclip[['INSTALLATION_YEAR','name','lat', 'long', 'status', 'category', 'wind', 'pressure', 'tropicalstorm_force_diameter', 'hurricane_force_diameter','date', 'yr', 'failTF','locGrp', 'ptlong', 'ptlat', 'minlong','minlat']]"
   ]
  },
  {
   "cell_type": "code",
   "execution_count": null,
   "metadata": {
    "id": "YQUP3mKNotWl"
   },
   "outputs": [],
   "source": [
    "gdfclip = None"
   ]
  },
  {
   "cell_type": "code",
   "execution_count": null,
   "metadata": {
    "id": "wXH5hZPu9Hld"
   },
   "outputs": [],
   "source": [
    "ard.locGrp = ard.locGrp.astype('category')\n",
    "ard.name = ard.name.astype('category')\n",
    "ard.yr = ard.yr.astype('category')"
   ]
  },
  {
   "cell_type": "code",
   "execution_count": null,
   "metadata": {
    "colab": {
     "base_uri": "https://localhost:8080/",
     "height": 226
    },
    "id": "_1J1Vt-uU5UJ",
    "outputId": "25c1edf5-74ad-4bc6-a43f-d2fe9d0ac511"
   },
   "outputs": [],
   "source": [
    "ard1 =ard[['name','locGrp', 'yr','category','wind','pressure',  \"minlong\",'ptlat','failTF', 'minlat', 'ptlong']].groupby(by=['name', 'locGrp','yr']).agg(\n",
    "    {'ptlat': ['mean'], 'ptlong': ['mean'], 'wind':['max'], 'pressure':['min'], 'minlong':['min'], 'minlat':['min'], 'failTF':['sum']}).reset_index()\n",
    "ard1 = ard1.dropna()\n",
    "ard1.columns = ['name','locGrp', 'yr','ptlat_mean', 'ptlong_mean', 'wind_max', 'pressure_min', 'minlong_min', 'minlat_min','failTF_sum']\n",
    "ard1.head()"
   ]
  },
  {
   "cell_type": "code",
   "execution_count": null,
   "metadata": {
    "colab": {
     "base_uri": "https://localhost:8080/"
    },
    "id": "z--xMzOAXYVu",
    "outputId": "a4213114-dbb5-4ee3-f068-97c20358ab1e"
   },
   "outputs": [],
   "source": [
    "ard1.shape"
   ]
  },
  {
   "cell_type": "code",
   "execution_count": null,
   "metadata": {
    "id": "nfq0afah-G2r"
   },
   "outputs": [],
   "source": [
    "ard1.to_csv(\"analysis_ready.csv\")"
   ]
  }
 ],
 "metadata": {
  "colab": {
   "provenance": []
  },
  "kernelspec": {
   "display_name": "Python [conda env:geoplot_compatible]",
   "language": "python",
   "name": "conda-env-geoplot_compatible-py"
  },
  "language_info": {
   "codemirror_mode": {
    "name": "ipython",
    "version": 3
   },
   "file_extension": ".py",
   "mimetype": "text/x-python",
   "name": "python",
   "nbconvert_exporter": "python",
   "pygments_lexer": "ipython3",
   "version": "3.7.11"
  }
 },
 "nbformat": 4,
 "nbformat_minor": 4
}
